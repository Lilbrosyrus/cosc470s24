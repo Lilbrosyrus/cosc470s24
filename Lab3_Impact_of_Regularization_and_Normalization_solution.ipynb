{
  "cells": [
    {
      "cell_type": "markdown",
      "metadata": {
        "id": "view-in-github",
        "colab_type": "text"
      },
      "source": [
        "<a href=\"https://colab.research.google.com/github/Lilbrosyrus/cosc470s24/blob/main/Lab3_Impact_of_Regularization_and_Normalization_solution.ipynb\" target=\"_parent\"><img src=\"https://colab.research.google.com/assets/colab-badge.svg\" alt=\"Open In Colab\"/></a>"
      ]
    },
    {
      "cell_type": "code",
      "execution_count": 3,
      "metadata": {
        "colab": {
          "base_uri": "https://localhost:8080/"
        },
        "id": "d13ce909",
        "outputId": "190d5f15-09a4-4878-d43f-c578a674f75f"
      },
      "outputs": [
        {
          "output_type": "stream",
          "name": "stdout",
          "text": [
            "Cloning into 'nn'...\n",
            "remote: Enumerating objects: 80, done.\u001b[K\n",
            "remote: Counting objects: 100% (25/25), done.\u001b[K\n",
            "remote: Compressing objects: 100% (24/24), done.\u001b[K\n",
            "remote: Total 80 (delta 11), reused 5 (delta 1), pack-reused 55\u001b[K\n",
            "Receiving objects: 100% (80/80), 16.44 MiB | 18.94 MiB/s, done.\n",
            "Resolving deltas: 100% (38/38), done.\n",
            "/content/nn\n"
          ]
        }
      ],
      "source": [
        "!git clone https://github.com/kartoone/DeepLearningPython nn\n",
        "%cd nn"
      ]
    },
    {
      "cell_type": "markdown",
      "metadata": {
        "id": "EFbEdiYDTsA5"
      },
      "source": []
    },
    {
      "cell_type": "code",
      "execution_count": 4,
      "metadata": {
        "colab": {
          "base_uri": "https://localhost:8080/"
        },
        "id": "Zwx70nCLRbG7",
        "outputId": "664da3b3-47ec-44af-f408-1a3d0e556f5a"
      },
      "outputs": [
        {
          "output_type": "stream",
          "name": "stdout",
          "text": [
            "Epoch 0 training complete\n",
            "Appending weights for epoch 0\n",
            "Accuracy on evaluation data: 3 / 3\n",
            "Epoch 1 training complete\n",
            "Appending weights for epoch 1\n",
            "Accuracy on evaluation data: 3 / 3\n",
            "Epoch 2 training complete\n",
            "Appending weights for epoch 2\n",
            "Accuracy on evaluation data: 3 / 3\n",
            "Epoch 3 training complete\n",
            "Appending weights for epoch 3\n",
            "Accuracy on evaluation data: 3 / 3\n",
            "Epoch 4 training complete\n",
            "Appending weights for epoch 4\n",
            "Accuracy on evaluation data: 3 / 3\n",
            "Epoch 5 training complete\n",
            "Appending weights for epoch 5\n",
            "Accuracy on evaluation data: 3 / 3\n",
            "Epoch 6 training complete\n",
            "Appending weights for epoch 6\n",
            "Accuracy on evaluation data: 3 / 3\n",
            "Epoch 7 training complete\n",
            "Appending weights for epoch 7\n",
            "Accuracy on evaluation data: 3 / 3\n",
            "Epoch 8 training complete\n",
            "Appending weights for epoch 8\n",
            "Accuracy on evaluation data: 3 / 3\n",
            "Epoch 9 training complete\n",
            "Appending weights for epoch 9\n",
            "Accuracy on evaluation data: 3 / 3\n",
            "Epoch 10 training complete\n",
            "Appending weights for epoch 10\n",
            "Accuracy on evaluation data: 3 / 3\n",
            "Epoch 11 training complete\n",
            "Appending weights for epoch 11\n",
            "Accuracy on evaluation data: 3 / 3\n",
            "Epoch 12 training complete\n",
            "Appending weights for epoch 12\n",
            "Accuracy on evaluation data: 3 / 3\n",
            "Epoch 13 training complete\n",
            "Appending weights for epoch 13\n",
            "Accuracy on evaluation data: 3 / 3\n",
            "Epoch 14 training complete\n",
            "Appending weights for epoch 14\n",
            "Accuracy on evaluation data: 3 / 3\n",
            "Epoch 15 training complete\n",
            "Appending weights for epoch 15\n",
            "Accuracy on evaluation data: 3 / 3\n",
            "Epoch 16 training complete\n",
            "Appending weights for epoch 16\n",
            "Accuracy on evaluation data: 3 / 3\n",
            "Epoch 17 training complete\n",
            "Appending weights for epoch 17\n",
            "Accuracy on evaluation data: 3 / 3\n",
            "Epoch 18 training complete\n",
            "Appending weights for epoch 18\n",
            "Accuracy on evaluation data: 3 / 3\n",
            "Epoch 19 training complete\n",
            "Appending weights for epoch 19\n",
            "Accuracy on evaluation data: 3 / 3\n",
            "Epoch 20 training complete\n",
            "Appending weights for epoch 20\n",
            "Accuracy on evaluation data: 3 / 3\n",
            "Epoch 21 training complete\n",
            "Appending weights for epoch 21\n",
            "Accuracy on evaluation data: 3 / 3\n",
            "Epoch 22 training complete\n",
            "Appending weights for epoch 22\n",
            "Accuracy on evaluation data: 3 / 3\n",
            "Epoch 23 training complete\n",
            "Appending weights for epoch 23\n",
            "Accuracy on evaluation data: 3 / 3\n",
            "Epoch 24 training complete\n",
            "Appending weights for epoch 24\n",
            "Accuracy on evaluation data: 3 / 3\n",
            "Epoch 25 training complete\n",
            "Appending weights for epoch 25\n",
            "Accuracy on evaluation data: 3 / 3\n",
            "Epoch 26 training complete\n",
            "Appending weights for epoch 26\n",
            "Accuracy on evaluation data: 3 / 3\n",
            "Epoch 27 training complete\n",
            "Appending weights for epoch 27\n",
            "Accuracy on evaluation data: 3 / 3\n",
            "Epoch 28 training complete\n",
            "Appending weights for epoch 28\n",
            "Accuracy on evaluation data: 3 / 3\n",
            "Epoch 29 training complete\n",
            "Appending weights for epoch 29\n",
            "Accuracy on evaluation data: 3 / 3\n"
          ]
        }
      ],
      "source": [
        "from network2 import Network, CrossEntropyCost\n",
        "import mnist_loader\n",
        "import numpy as np\n",
        "training_data, validation_data, test_data = mnist_loader.load_data_wrapper()\n",
        "training_data = list(training_data)\n",
        "test_data = list(test_data)[0:3]\n",
        "net = Network([784, 30, 10], cost=CrossEntropyCost)\n",
        "net.large_weight_initializer()\n",
        "weights = net.SGD(training_data, 30, 10, 0.5, evaluation_data=test_data, monitor_evaluation_accuracy=True)\n"
      ]
    },
    {
      "cell_type": "code",
      "source": [
        "%pwd"
      ],
      "metadata": {
        "colab": {
          "base_uri": "https://localhost:8080/",
          "height": 36
        },
        "id": "QCu9qw39gvWd",
        "outputId": "da2c850b-df73-4a2b-dafa-849c2631d0e6"
      },
      "execution_count": 5,
      "outputs": [
        {
          "output_type": "execute_result",
          "data": {
            "text/plain": [
              "'/content/nn'"
            ],
            "application/vnd.google.colaboratory.intrinsic+json": {
              "type": "string"
            }
          },
          "metadata": {},
          "execution_count": 5
        }
      ]
    },
    {
      "cell_type": "code",
      "execution_count": 7,
      "metadata": {
        "id": "ncildOSrbgB7",
        "colab": {
          "base_uri": "https://localhost:8080/",
          "height": 1000
        },
        "outputId": "871950f6-5549-4860-9bae-471aa8f5c8dd"
      },
      "outputs": [
        {
          "output_type": "display_data",
          "data": {
            "text/plain": [
              "<Figure size 1000x500 with 1 Axes>"
            ],
            "image/png": "[encoded data removed]"
          },
          "metadata": {}
        },
        {
          "output_type": "stream",
          "name": "stdout",
          "text": [
            "[[1.43972833e-06]\n",
            " [1.06961651e-08]\n",
            " [3.32188424e-02]\n",
            " [1.61131569e-06]\n",
            " [6.93423684e-01]\n",
            " [4.06922622e-10]\n",
            " [2.75225030e-06]\n",
            " [8.20763640e-02]\n",
            " [5.14850214e-09]\n",
            " [6.97191392e-04]]\n",
            "4\n"
          ]
        },
        {
          "output_type": "display_data",
          "data": {
            "text/plain": [
              "<Figure size 1000x500 with 1 Axes>"
            ],
            "image/png": "[encoded data removed]"
          },
          "metadata": {}
        },
        {
          "output_type": "stream",
          "name": "stdout",
          "text": [
            "[[2.74466793e-11]\n",
            " [3.63119251e-02]\n",
            " [1.77179756e-05]\n",
            " [1.23858134e-04]\n",
            " [4.08615521e-08]\n",
            " [1.08062792e-07]\n",
            " [9.81093176e-05]\n",
            " [5.44431493e-01]\n",
            " [1.25942953e-04]\n",
            " [1.45589138e-05]]\n",
            "7\n"
          ]
        },
        {
          "output_type": "display_data",
          "data": {
            "text/plain": [
              "<Figure size 1000x500 with 1 Axes>"
            ],
            "image/png": "[encoded data removed]"
          },
          "metadata": {}
        },
        {
          "output_type": "stream",
          "name": "stdout",
          "text": [
            "[[1.46997757e-09]\n",
            " [5.43896456e-04]\n",
            " [5.60982646e-02]\n",
            " [2.91494003e-07]\n",
            " [1.80292016e-09]\n",
            " [1.62069293e-02]\n",
            " [1.40385817e-02]\n",
            " [6.01084937e-01]\n",
            " [4.25081397e-04]\n",
            " [1.22126885e-04]]\n",
            "7\n"
          ]
        },
        {
          "output_type": "display_data",
          "data": {
            "text/plain": [
              "<Figure size 1000x500 with 1 Axes>"
            ],
            "image/png": "[encoded data removed]"
          },
          "metadata": {}
        },
        {
          "output_type": "stream",
          "name": "stdout",
          "text": [
            "[[1.70413788e-10]\n",
            " [4.09691913e-01]\n",
            " [7.31091090e-06]\n",
            " [1.10674642e-06]\n",
            " [4.74057953e-07]\n",
            " [1.04989133e-04]\n",
            " [1.77073498e-04]\n",
            " [6.30982756e-01]\n",
            " [1.01781232e-06]\n",
            " [8.21967092e-04]]\n",
            "7\n"
          ]
        },
        {
          "output_type": "display_data",
          "data": {
            "text/plain": [
              "<Figure size 1000x500 with 1 Axes>"
            ],
            "image/png": "[encoded data removed]"
          },
          "metadata": {}
        },
        {
          "output_type": "stream",
          "name": "stdout",
          "text": [
            "[[1.22976128e-10]\n",
            " [7.57141744e-07]\n",
            " [4.16196882e-07]\n",
            " [1.54669806e-04]\n",
            " [6.92254848e-01]\n",
            " [2.07889810e-06]\n",
            " [2.24736010e-11]\n",
            " [2.01175397e-01]\n",
            " [1.27096850e-09]\n",
            " [1.44432432e-02]]\n",
            "4\n"
          ]
        },
        {
          "output_type": "display_data",
          "data": {
            "text/plain": [
              "<Figure size 1000x500 with 1 Axes>"
            ],
            "image/png": "[encoded data removed]"
          },
          "metadata": {}
        },
        {
          "output_type": "stream",
          "name": "stdout",
          "text": [
            "[[1.91747984e-06]\n",
            " [5.56707227e-08]\n",
            " [5.67494330e-04]\n",
            " [2.42125159e-08]\n",
            " [2.96040506e-06]\n",
            " [6.69493524e-04]\n",
            " [2.49447384e-03]\n",
            " [7.04409375e-02]\n",
            " [5.53722042e-05]\n",
            " [6.09083229e-01]]\n",
            "9\n"
          ]
        },
        {
          "output_type": "display_data",
          "data": {
            "text/plain": [
              "<Figure size 1000x500 with 1 Axes>"
            ],
            "image/png": "[encoded data removed]"
          },
          "metadata": {}
        },
        {
          "output_type": "stream",
          "name": "stdout",
          "text": [
            "[[9.98550602e-01]\n",
            " [2.34877945e-05]\n",
            " [7.17681238e-08]\n",
            " [2.39017423e-11]\n",
            " [4.96997220e-07]\n",
            " [1.62594776e-05]\n",
            " [3.10948366e-04]\n",
            " [1.09806933e-06]\n",
            " [5.29882322e-06]\n",
            " [6.83991888e-05]]\n",
            "0\n"
          ]
        },
        {
          "output_type": "display_data",
          "data": {
            "text/plain": [
              "<Figure size 1000x500 with 1 Axes>"
            ],
            "image/png": "[encoded data removed]"
          },
          "metadata": {}
        },
        {
          "output_type": "stream",
          "name": "stdout",
          "text": [
            "[[1.13814741e-08]\n",
            " [4.42640209e-03]\n",
            " [2.07824964e-06]\n",
            " [8.18000277e-07]\n",
            " [6.08293493e-04]\n",
            " [2.72585945e-02]\n",
            " [8.58980366e-11]\n",
            " [6.63017777e-01]\n",
            " [2.68706482e-07]\n",
            " [5.20434017e-01]]\n",
            "7\n"
          ]
        },
        {
          "output_type": "display_data",
          "data": {
            "text/plain": [
              "<Figure size 1000x500 with 1 Axes>"
            ],
            "image/png": "[encoded data removed]"
          },
          "metadata": {}
        },
        {
          "output_type": "stream",
          "name": "stdout",
          "text": [
            "[[1.91355862e-09]\n",
            " [5.46563578e-04]\n",
            " [2.24263164e-04]\n",
            " [1.86065838e-08]\n",
            " [5.73294754e-04]\n",
            " [3.48026851e-05]\n",
            " [1.08875288e-08]\n",
            " [6.95046304e-03]\n",
            " [6.30933213e-04]\n",
            " [9.17165706e-01]]\n",
            "9\n"
          ]
        },
        {
          "output_type": "display_data",
          "data": {
            "text/plain": [
              "<Figure size 1000x500 with 1 Axes>"
            ],
            "image/png": "[encoded data removed]"
          },
          "metadata": {}
        },
        {
          "output_type": "stream",
          "name": "stdout",
          "text": [
            "[[8.68854558e-12]\n",
            " [5.86065151e-05]\n",
            " [1.12813105e-05]\n",
            " [5.20295848e-05]\n",
            " [7.51191203e-01]\n",
            " [9.62117079e-03]\n",
            " [5.07898129e-12]\n",
            " [3.39425471e-03]\n",
            " [5.09478916e-08]\n",
            " [2.34704138e-01]]\n",
            "4\n",
            "2\n"
          ]
        }
      ],
      "source": [
        "import matplotlib.pyplot as plt\n",
        "import numpy as np\n",
        "from PIL import Image\n",
        "\n",
        "count = 0\n",
        "for i in range(10):\n",
        "  image_path = f'../good{i}.png'\n",
        "  image = Image.open(image_path).convert('L')\n",
        "\n",
        "# convert image to numpy array\n",
        "  image_array = np.array(image)\n",
        "\n",
        "  fig, axs = plt.subplots(1, 1, figsize=(10, 5))\n",
        "\n",
        "# display first image\n",
        "  axs.imshow(image_array, cmap = 'gray')\n",
        "  axs.set_title(image_path)\n",
        "  axs.axis('off')\n",
        "\n",
        "  plt.show()\n",
        "  image_array = image_array/255.0\n",
        "  a0 = net.feedforward(np.reshape(image_array,(784,1)))\n",
        "  print(a0)\n",
        "  print(np.argmax(a0))\n",
        "  if np.argmax(a0)==i:\n",
        "    count+=1\n",
        "print(count)"
      ]
    },
    {
      "cell_type": "code",
      "execution_count": 8,
      "metadata": {
        "colab": {
          "base_uri": "https://localhost:8080/",
          "height": 1000
        },
        "id": "7rdS_pJUnV4R",
        "outputId": "12db3963-56d7-4430-ab94-b9645978e595"
      },
      "outputs": [
        {
          "output_type": "display_data",
          "data": {
            "text/plain": [
              "<Figure size 1000x500 with 1 Axes>"
            ],
            "image/png": "[encoded data removed]"
          },
          "metadata": {}
        },
        {
          "output_type": "stream",
          "name": "stdout",
          "text": [
            "[[3.93676485e-09]\n",
            " [4.98001639e-08]\n",
            " [3.97137484e-03]\n",
            " [2.07166769e-07]\n",
            " [1.65118434e-11]\n",
            " [9.99510257e-01]\n",
            " [3.26055328e-02]\n",
            " [2.34657785e-07]\n",
            " [4.00584306e-06]\n",
            " [4.23249839e-08]]\n",
            "5\n"
          ]
        },
        {
          "output_type": "display_data",
          "data": {
            "text/plain": [
              "<Figure size 1000x500 with 1 Axes>"
            ],
            "image/png": "[encoded data removed]"
          },
          "metadata": {}
        },
        {
          "output_type": "stream",
          "name": "stdout",
          "text": [
            "[[4.83338925e-05]\n",
            " [2.55350380e-04]\n",
            " [2.29392651e-03]\n",
            " [6.49991051e-03]\n",
            " [3.64636867e-11]\n",
            " [2.91115685e-01]\n",
            " [7.94006477e-07]\n",
            " [5.52113140e-07]\n",
            " [9.94004154e-03]\n",
            " [4.65244032e-05]]\n",
            "5\n"
          ]
        },
        {
          "output_type": "display_data",
          "data": {
            "text/plain": [
              "<Figure size 1000x500 with 1 Axes>"
            ],
            "image/png": "[encoded data removed]"
          },
          "metadata": {}
        },
        {
          "output_type": "stream",
          "name": "stdout",
          "text": [
            "[[4.08542463e-10]\n",
            " [8.63322045e-08]\n",
            " [8.57091732e-06]\n",
            " [9.85504456e-03]\n",
            " [1.50846518e-10]\n",
            " [9.99944762e-01]\n",
            " [7.77956908e-11]\n",
            " [1.99523704e-05]\n",
            " [2.99265295e-08]\n",
            " [1.64719343e-04]]\n",
            "5\n"
          ]
        },
        {
          "output_type": "display_data",
          "data": {
            "text/plain": [
              "<Figure size 1000x500 with 1 Axes>"
            ],
            "image/png": "[encoded data removed]"
          },
          "metadata": {}
        },
        {
          "output_type": "stream",
          "name": "stdout",
          "text": [
            "[[3.67766305e-07]\n",
            " [2.61130340e-04]\n",
            " [2.07176689e-03]\n",
            " [9.99133074e-01]\n",
            " [2.16398834e-07]\n",
            " [5.48416951e-11]\n",
            " [1.77801208e-12]\n",
            " [4.64954584e-06]\n",
            " [8.39154769e-07]\n",
            " [4.96980330e-01]]\n",
            "3\n"
          ]
        },
        {
          "output_type": "display_data",
          "data": {
            "text/plain": [
              "<Figure size 1000x500 with 1 Axes>"
            ],
            "image/png": "[encoded data removed]"
          },
          "metadata": {}
        },
        {
          "output_type": "stream",
          "name": "stdout",
          "text": [
            "[[5.62976341e-08]\n",
            " [2.87493015e-05]\n",
            " [1.28686266e-03]\n",
            " [3.73287782e-08]\n",
            " [9.99893523e-01]\n",
            " [6.25552292e-08]\n",
            " [4.11889683e-05]\n",
            " [1.49506444e-04]\n",
            " [2.37041766e-09]\n",
            " [4.61852562e-06]]\n",
            "4\n"
          ]
        },
        {
          "output_type": "display_data",
          "data": {
            "text/plain": [
              "<Figure size 1000x500 with 1 Axes>"
            ],
            "image/png": "[encoded data removed]"
          },
          "metadata": {}
        },
        {
          "output_type": "stream",
          "name": "stdout",
          "text": [
            "[[2.61281127e-08]\n",
            " [1.98249172e-09]\n",
            " [5.79158580e-07]\n",
            " [3.15503549e-05]\n",
            " [5.38753404e-09]\n",
            " [9.99994974e-01]\n",
            " [4.33123229e-09]\n",
            " [2.34818801e-09]\n",
            " [5.89565529e-08]\n",
            " [2.77029370e-04]]\n",
            "5\n"
          ]
        },
        {
          "output_type": "display_data",
          "data": {
            "text/plain": [
              "<Figure size 1000x500 with 1 Axes>"
            ],
            "image/png": "[encoded data removed]"
          },
          "metadata": {}
        },
        {
          "output_type": "stream",
          "name": "stdout",
          "text": [
            "[[3.66505607e-04]\n",
            " [9.88291778e-07]\n",
            " [1.30097969e-04]\n",
            " [3.46893808e-07]\n",
            " [7.68954186e-04]\n",
            " [1.10794188e-03]\n",
            " [9.96843965e-01]\n",
            " [1.07346261e-05]\n",
            " [6.13520124e-09]\n",
            " [3.06573611e-05]]\n",
            "6\n"
          ]
        },
        {
          "output_type": "display_data",
          "data": {
            "text/plain": [
              "<Figure size 1000x500 with 1 Axes>"
            ],
            "image/png": "[encoded data removed]"
          },
          "metadata": {}
        },
        {
          "output_type": "stream",
          "name": "stdout",
          "text": [
            "[[4.66377311e-12]\n",
            " [4.10235999e-06]\n",
            " [2.49991945e-05]\n",
            " [1.12669599e-02]\n",
            " [4.24374023e-05]\n",
            " [8.71824703e-06]\n",
            " [1.47986467e-16]\n",
            " [1.04440748e-01]\n",
            " [1.25555830e-10]\n",
            " [1.23396758e-02]]\n",
            "7\n"
          ]
        },
        {
          "output_type": "display_data",
          "data": {
            "text/plain": [
              "<Figure size 1000x500 with 1 Axes>"
            ],
            "image/png": "[encoded data removed]"
          },
          "metadata": {}
        },
        {
          "output_type": "stream",
          "name": "stdout",
          "text": [
            "[[1.81211680e-09]\n",
            " [3.06222144e-04]\n",
            " [1.34694899e-03]\n",
            " [1.03437022e-03]\n",
            " [2.76934611e-08]\n",
            " [8.97691676e-01]\n",
            " [1.19307499e-04]\n",
            " [5.26989085e-07]\n",
            " [3.02531867e-04]\n",
            " [4.35213804e-06]]\n",
            "5\n"
          ]
        },
        {
          "output_type": "display_data",
          "data": {
            "text/plain": [
              "<Figure size 1000x500 with 1 Axes>"
            ],
            "image/png": "[encoded data removed]"
          },
          "metadata": {}
        },
        {
          "output_type": "stream",
          "name": "stdout",
          "text": [
            "[[7.04158199e-09]\n",
            " [4.93661627e-09]\n",
            " [9.33634696e-03]\n",
            " [1.24679407e-03]\n",
            " [1.58652159e-03]\n",
            " [3.46706876e-05]\n",
            " [4.00417922e-12]\n",
            " [6.85985075e-05]\n",
            " [2.61286170e-07]\n",
            " [9.94302537e-01]]\n",
            "9\n",
            "8\n"
          ]
        }
      ],
      "source": [
        "import matplotlib.pyplot as plt\n",
        "import numpy as np\n",
        "from PIL import Image\n",
        "for i in range(10):\n",
        "  image_path = f'../large{i}.png'\n",
        "  image = Image.open(image_path).convert('L')\n",
        "\n",
        "# convert image to numpy array\n",
        "  image_array = np.array(image)\n",
        "\n",
        "  fig, axs = plt.subplots(1, 1, figsize=(10, 5))\n",
        "\n",
        "# display first image\n",
        "  axs.imshow(image_array, cmap = 'gray')\n",
        "  axs.set_title(image_path)\n",
        "  axs.axis('off')\n",
        "\n",
        "  plt.show()\n",
        "  image_array = image_array/255.0\n",
        "  a0 = net.feedforward(np.reshape(image_array,(784,1)))\n",
        "  print(a0)\n",
        "  print(np.argmax(a0))\n",
        "  if np.argmax(a0)==i:\n",
        "    count+=1\n",
        "print(count)"
      ]
    },
    {
      "cell_type": "code",
      "execution_count": 9,
      "metadata": {
        "colab": {
          "base_uri": "https://localhost:8080/",
          "height": 1000
        },
        "id": "IenANmk3nWgY",
        "outputId": "02a1b8e9-550d-4224-893f-91fba7f1260f"
      },
      "outputs": [
        {
          "output_type": "display_data",
          "data": {
            "text/plain": [
              "<Figure size 1000x500 with 1 Axes>"
            ],
            "image/png": "[encoded data removed]"
          },
          "metadata": {}
        },
        {
          "output_type": "stream",
          "name": "stdout",
          "text": [
            "[[7.19675865e-01]\n",
            " [2.85225393e-05]\n",
            " [3.64415984e-03]\n",
            " [1.96904100e-07]\n",
            " [9.43502311e-02]\n",
            " [6.13911064e-04]\n",
            " [4.33849776e-09]\n",
            " [3.15854802e-05]\n",
            " [2.45264870e-10]\n",
            " [1.29714020e-06]]\n",
            "0\n"
          ]
        },
        {
          "output_type": "display_data",
          "data": {
            "text/plain": [
              "<Figure size 1000x500 with 1 Axes>"
            ],
            "image/png": "[encoded data removed]"
          },
          "metadata": {}
        },
        {
          "output_type": "stream",
          "name": "stdout",
          "text": [
            "[[5.07664058e-07]\n",
            " [3.71417515e-04]\n",
            " [9.99841281e-01]\n",
            " [1.25046352e-04]\n",
            " [2.69965662e-12]\n",
            " [2.83890764e-03]\n",
            " [3.13595712e-10]\n",
            " [1.40974244e-08]\n",
            " [4.85485338e-14]\n",
            " [4.92087887e-09]]\n",
            "2\n"
          ]
        },
        {
          "output_type": "display_data",
          "data": {
            "text/plain": [
              "<Figure size 1000x500 with 1 Axes>"
            ],
            "image/png": "[encoded data removed]"
          },
          "metadata": {}
        },
        {
          "output_type": "stream",
          "name": "stdout",
          "text": [
            "[[6.43163726e-10]\n",
            " [7.52901369e-03]\n",
            " [1.28553701e-01]\n",
            " [1.40130800e-04]\n",
            " [5.61321762e-08]\n",
            " [9.88359135e-01]\n",
            " [1.11037636e-06]\n",
            " [4.30537783e-08]\n",
            " [5.78662788e-09]\n",
            " [9.57500392e-04]]\n",
            "5\n"
          ]
        },
        {
          "output_type": "display_data",
          "data": {
            "text/plain": [
              "<Figure size 1000x500 with 1 Axes>"
            ],
            "image/png": "[encoded data removed]"
          },
          "metadata": {}
        },
        {
          "output_type": "stream",
          "name": "stdout",
          "text": [
            "[[8.84386025e-12]\n",
            " [3.06101594e-02]\n",
            " [3.72158621e-01]\n",
            " [3.20735489e-01]\n",
            " [6.87538025e-08]\n",
            " [7.31351398e-07]\n",
            " [2.49577304e-12]\n",
            " [4.49575306e-10]\n",
            " [9.66622616e-15]\n",
            " [5.20769604e-06]]\n",
            "2\n"
          ]
        },
        {
          "output_type": "display_data",
          "data": {
            "text/plain": [
              "<Figure size 1000x500 with 1 Axes>"
            ],
            "image/png": "[encoded data removed]"
          },
          "metadata": {}
        },
        {
          "output_type": "stream",
          "name": "stdout",
          "text": [
            "[[1.94685012e-07]\n",
            " [6.90765740e-02]\n",
            " [3.69022354e-01]\n",
            " [3.63675231e-01]\n",
            " [4.18789088e-07]\n",
            " [3.15968465e-01]\n",
            " [1.64020817e-13]\n",
            " [6.84326619e-07]\n",
            " [2.67781277e-10]\n",
            " [3.19658624e-04]]\n",
            "2\n"
          ]
        },
        {
          "output_type": "display_data",
          "data": {
            "text/plain": [
              "<Figure size 1000x500 with 1 Axes>"
            ],
            "image/png": "[encoded data removed]"
          },
          "metadata": {}
        },
        {
          "output_type": "stream",
          "name": "stdout",
          "text": [
            "[[5.28148447e-09]\n",
            " [1.89554860e-04]\n",
            " [9.98043824e-01]\n",
            " [1.50323467e-01]\n",
            " [2.89991824e-08]\n",
            " [9.90500897e-01]\n",
            " [1.63258197e-14]\n",
            " [5.57967549e-07]\n",
            " [3.76268953e-10]\n",
            " [6.57167766e-09]]\n",
            "2\n"
          ]
        },
        {
          "output_type": "display_data",
          "data": {
            "text/plain": [
              "<Figure size 1000x500 with 1 Axes>"
            ],
            "image/png": "[encoded data removed]"
          },
          "metadata": {}
        },
        {
          "output_type": "stream",
          "name": "stdout",
          "text": [
            "[[5.91813407e-07]\n",
            " [1.01819519e-04]\n",
            " [9.96612052e-01]\n",
            " [1.24658645e-05]\n",
            " [7.65042493e-09]\n",
            " [9.48836841e-01]\n",
            " [4.00952408e-10]\n",
            " [8.31545779e-10]\n",
            " [2.67559529e-10]\n",
            " [1.72206735e-02]]\n",
            "2\n"
          ]
        },
        {
          "output_type": "display_data",
          "data": {
            "text/plain": [
              "<Figure size 1000x500 with 1 Axes>"
            ],
            "image/png": "[encoded data removed]"
          },
          "metadata": {}
        },
        {
          "output_type": "stream",
          "name": "stdout",
          "text": [
            "[[1.15176839e-05]\n",
            " [6.99451883e-05]\n",
            " [9.81871358e-01]\n",
            " [1.60470497e-05]\n",
            " [5.12442905e-07]\n",
            " [9.99470530e-01]\n",
            " [3.33145311e-08]\n",
            " [5.31283996e-10]\n",
            " [1.81304205e-08]\n",
            " [1.61789490e-08]]\n",
            "5\n"
          ]
        },
        {
          "output_type": "display_data",
          "data": {
            "text/plain": [
              "<Figure size 1000x500 with 1 Axes>"
            ],
            "image/png": "[encoded data removed]"
          },
          "metadata": {}
        },
        {
          "output_type": "stream",
          "name": "stdout",
          "text": [
            "[[3.08899275e-05]\n",
            " [5.90432932e-05]\n",
            " [6.32533770e-01]\n",
            " [2.53790493e-06]\n",
            " [6.64181372e-09]\n",
            " [9.99978300e-01]\n",
            " [1.16822189e-05]\n",
            " [1.33154563e-09]\n",
            " [3.50552584e-07]\n",
            " [3.96302517e-05]]\n",
            "5\n"
          ]
        },
        {
          "output_type": "display_data",
          "data": {
            "text/plain": [
              "<Figure size 1000x500 with 1 Axes>"
            ],
            "image/png": "[encoded data removed]"
          },
          "metadata": {}
        },
        {
          "output_type": "stream",
          "name": "stdout",
          "text": [
            "[[6.36248206e-05]\n",
            " [8.18572547e-04]\n",
            " [9.81364242e-01]\n",
            " [1.60915644e-03]\n",
            " [2.80144180e-08]\n",
            " [1.07017546e-02]\n",
            " [1.27165377e-08]\n",
            " [7.84028066e-10]\n",
            " [1.05727476e-10]\n",
            " [6.76683421e-09]]\n",
            "2\n",
            "9\n"
          ]
        }
      ],
      "source": [
        "import matplotlib.pyplot as plt\n",
        "import numpy as np\n",
        "from PIL import Image\n",
        "for i in range(10):\n",
        "  image_path = f'../small{i}.png'\n",
        "  image = Image.open(image_path).convert('L')\n",
        "\n",
        "# convert image to numpy array\n",
        "  image_array = np.array(image)\n",
        "\n",
        "  fig, axs = plt.subplots(1, 1, figsize=(10, 5))\n",
        "\n",
        "# display first image\n",
        "  axs.imshow(image_array, cmap = 'gray')\n",
        "  axs.set_title(image_path)\n",
        "  axs.axis('off')\n",
        "\n",
        "  plt.show()\n",
        "  image_array = image_array/255.0\n",
        "  a0 = net.feedforward(np.reshape(image_array,(784,1)))\n",
        "  print(a0)\n",
        "  print(np.argmax(a0))\n",
        "  if np.argmax(a0)==i:\n",
        "    count+=1\n",
        "print(count)"
      ]
    },
    {
      "cell_type": "code",
      "execution_count": 10,
      "metadata": {
        "colab": {
          "base_uri": "https://localhost:8080/"
        },
        "id": "PC3VL8AB-8Lv",
        "outputId": "e6f46898-56b0-45d4-d9e0-6cff593bf954"
      },
      "outputs": [
        {
          "output_type": "stream",
          "name": "stdout",
          "text": [
            "Expanding the MNIST training set\n",
            "Expanding image number 1000\n",
            "Expanding image number 2000\n",
            "Expanding image number 3000\n",
            "Expanding image number 4000\n",
            "Expanding image number 5000\n",
            "Expanding image number 6000\n",
            "Expanding image number 7000\n",
            "Expanding image number 8000\n",
            "Expanding image number 9000\n",
            "Expanding image number 10000\n",
            "Expanding image number 11000\n",
            "Expanding image number 12000\n",
            "Expanding image number 13000\n",
            "Expanding image number 14000\n",
            "Expanding image number 15000\n",
            "Expanding image number 16000\n",
            "Expanding image number 17000\n",
            "Expanding image number 18000\n",
            "Expanding image number 19000\n",
            "Expanding image number 20000\n",
            "Expanding image number 21000\n",
            "Expanding image number 22000\n",
            "Expanding image number 23000\n",
            "Expanding image number 24000\n",
            "Expanding image number 25000\n",
            "Expanding image number 26000\n",
            "Expanding image number 27000\n",
            "Expanding image number 28000\n",
            "Expanding image number 29000\n",
            "Expanding image number 30000\n",
            "Expanding image number 31000\n",
            "Expanding image number 32000\n",
            "Expanding image number 33000\n",
            "Expanding image number 34000\n",
            "Expanding image number 35000\n",
            "Expanding image number 36000\n",
            "Expanding image number 37000\n",
            "Expanding image number 38000\n",
            "Expanding image number 39000\n",
            "Expanding image number 40000\n",
            "Expanding image number 41000\n",
            "Expanding image number 42000\n",
            "Expanding image number 43000\n",
            "Expanding image number 44000\n",
            "Expanding image number 45000\n",
            "Expanding image number 46000\n",
            "Expanding image number 47000\n",
            "Expanding image number 48000\n",
            "Expanding image number 49000\n",
            "Expanding image number 50000\n",
            "Saving expanded data. This may take a few minutes.\n"
          ]
        }
      ],
      "source": [
        "import expand_mnist"
      ]
    },
    {
      "cell_type": "markdown",
      "metadata": {
        "id": "2DdXDu5iNKHK"
      },
      "source": []
    },
    {
      "cell_type": "code",
      "execution_count": 11,
      "metadata": {
        "colab": {
          "base_uri": "https://localhost:8080/"
        },
        "id": "75fEGh4E_E6y",
        "outputId": "f9676803-5ec4-45d2-f8da-5c78d488e3e2"
      },
      "outputs": [
        {
          "output_type": "stream",
          "name": "stdout",
          "text": [
            "250000\n"
          ]
        }
      ],
      "source": [
        "import mnist_loader\n",
        "import numpy as np\n",
        "training_data, validation_data, test_data = mnist_loader.load_data_wrapper(\"mnist_expanded.pkl.gz\")\n",
        "training_data=list(training_data)\n",
        "test_data = list(test_data)\n",
        "print(len(training_data))"
      ]
    },
    {
      "cell_type": "code",
      "execution_count": 29,
      "metadata": {
        "colab": {
          "base_uri": "https://localhost:8080/",
          "height": 426
        },
        "id": "zxnqjus8BWyn",
        "outputId": "774e8d9b-4ff7-4c69-e3f1-23e40c6abc0f"
      },
      "outputs": [
        {
          "output_type": "error",
          "ename": "AttributeError",
          "evalue": "'dict' object has no attribute 'read'",
          "traceback": [
            "\u001b[0;31m---------------------------------------------------------------------------\u001b[0m",
            "\u001b[0;31mAttributeError\u001b[0m                            Traceback (most recent call last)",
            "\u001b[0;32m/usr/local/lib/python3.10/dist-packages/PIL/Image.py\u001b[0m in \u001b[0;36mopen\u001b[0;34m(fp, mode, formats)\u001b[0m\n\u001b[1;32m   3230\u001b[0m     \u001b[0;32mtry\u001b[0m\u001b[0;34m:\u001b[0m\u001b[0;34m\u001b[0m\u001b[0;34m\u001b[0m\u001b[0m\n\u001b[0;32m-> 3231\u001b[0;31m         \u001b[0mfp\u001b[0m\u001b[0;34m.\u001b[0m\u001b[0mseek\u001b[0m\u001b[0;34m(\u001b[0m\u001b[0;36m0\u001b[0m\u001b[0;34m)\u001b[0m\u001b[0;34m\u001b[0m\u001b[0;34m\u001b[0m\u001b[0m\n\u001b[0m\u001b[1;32m   3232\u001b[0m     \u001b[0;32mexcept\u001b[0m \u001b[0;34m(\u001b[0m\u001b[0mAttributeError\u001b[0m\u001b[0;34m,\u001b[0m \u001b[0mio\u001b[0m\u001b[0;34m.\u001b[0m\u001b[0mUnsupportedOperation\u001b[0m\u001b[0;34m)\u001b[0m\u001b[0;34m:\u001b[0m\u001b[0;34m\u001b[0m\u001b[0;34m\u001b[0m\u001b[0m\n",
            "\u001b[0;31mAttributeError\u001b[0m: 'dict' object has no attribute 'seek'",
            "\nDuring handling of the above exception, another exception occurred:\n",
            "\u001b[0;31mAttributeError\u001b[0m                            Traceback (most recent call last)",
            "\u001b[0;32m<ipython-input-29-99472534228b>\u001b[0m in \u001b[0;36m<cell line: 35>\u001b[0;34m()\u001b[0m\n\u001b[1;32m     33\u001b[0m     \u001b[0;34m'large'\u001b[0m\u001b[0;34m:\u001b[0m \u001b[0;34m[\u001b[0m\u001b[0;36m0\u001b[0m\u001b[0;34m,\u001b[0m \u001b[0;36m1\u001b[0m\u001b[0;34m,\u001b[0m \u001b[0;36m2\u001b[0m\u001b[0;34m,\u001b[0m \u001b[0;36m3\u001b[0m\u001b[0;34m,\u001b[0m \u001b[0;36m4\u001b[0m\u001b[0;34m,\u001b[0m \u001b[0;36m5\u001b[0m\u001b[0;34m,\u001b[0m \u001b[0;36m6\u001b[0m\u001b[0;34m,\u001b[0m \u001b[0;36m7\u001b[0m\u001b[0;34m,\u001b[0m \u001b[0;36m8\u001b[0m\u001b[0;34m,\u001b[0m \u001b[0;36m9\u001b[0m\u001b[0;34m]\u001b[0m  \u001b[0;31m# Add all expected labels for 'large' images\u001b[0m\u001b[0;34m\u001b[0m\u001b[0;34m\u001b[0m\u001b[0m\n\u001b[1;32m     34\u001b[0m }\n\u001b[0;32m---> 35\u001b[0;31m \u001b[0mevaluate_classification\u001b[0m\u001b[0;34m(\u001b[0m\u001b[0mnet\u001b[0m\u001b[0;34m,\u001b[0m \u001b[0mimage_paths\u001b[0m\u001b[0;34m,\u001b[0m \u001b[0mexpected_labels\u001b[0m\u001b[0;34m)\u001b[0m\u001b[0;34m\u001b[0m\u001b[0;34m\u001b[0m\u001b[0m\n\u001b[0m\u001b[1;32m     36\u001b[0m \u001b[0;31m# Call the function to evaluate classification\u001b[0m\u001b[0;34m\u001b[0m\u001b[0;34m\u001b[0m\u001b[0m\n\u001b[1;32m     37\u001b[0m \u001b[0mcorrect_counts\u001b[0m \u001b[0;34m=\u001b[0m \u001b[0mevaluate_classification\u001b[0m\u001b[0;34m(\u001b[0m\u001b[0mnet\u001b[0m\u001b[0;34m,\u001b[0m \u001b[0mimage_paths\u001b[0m\u001b[0;34m,\u001b[0m \u001b[0mexpected_labels\u001b[0m\u001b[0;34m)\u001b[0m\u001b[0;34m\u001b[0m\u001b[0;34m\u001b[0m\u001b[0m\n",
            "\u001b[0;32m<ipython-input-29-99472534228b>\u001b[0m in \u001b[0;36mevaluate_classification\u001b[0;34m(net, image_paths, expected_labels)\u001b[0m\n\u001b[1;32m      8\u001b[0m         \u001b[0;32mfor\u001b[0m \u001b[0mimage_path\u001b[0m\u001b[0;34m,\u001b[0m \u001b[0mexpected_label\u001b[0m \u001b[0;32min\u001b[0m \u001b[0mzip\u001b[0m\u001b[0;34m(\u001b[0m\u001b[0mpaths\u001b[0m\u001b[0;34m,\u001b[0m \u001b[0mexpected_labels\u001b[0m\u001b[0;34m[\u001b[0m\u001b[0mcategory\u001b[0m\u001b[0;34m]\u001b[0m\u001b[0;34m)\u001b[0m\u001b[0;34m:\u001b[0m\u001b[0;34m\u001b[0m\u001b[0;34m\u001b[0m\u001b[0m\n\u001b[1;32m      9\u001b[0m             \u001b[0;31m# Load the image\u001b[0m\u001b[0;34m\u001b[0m\u001b[0;34m\u001b[0m\u001b[0m\n\u001b[0;32m---> 10\u001b[0;31m           \u001b[0mimage\u001b[0m \u001b[0;34m=\u001b[0m \u001b[0mImage\u001b[0m\u001b[0;34m.\u001b[0m\u001b[0mopen\u001b[0m\u001b[0;34m(\u001b[0m\u001b[0mimage_paths\u001b[0m\u001b[0;34m)\u001b[0m\u001b[0;34m.\u001b[0m\u001b[0mconvert\u001b[0m\u001b[0;34m(\u001b[0m\u001b[0;34m'L'\u001b[0m\u001b[0;34m)\u001b[0m\u001b[0;34m\u001b[0m\u001b[0;34m\u001b[0m\u001b[0m\n\u001b[0m\u001b[1;32m     11\u001b[0m           \u001b[0mimage_array\u001b[0m \u001b[0;34m=\u001b[0m \u001b[0mnp\u001b[0m\u001b[0;34m.\u001b[0m\u001b[0marray\u001b[0m\u001b[0;34m(\u001b[0m\u001b[0mimage\u001b[0m\u001b[0;34m)\u001b[0m \u001b[0;34m/\u001b[0m \u001b[0;36m255.0\u001b[0m\u001b[0;34m\u001b[0m\u001b[0;34m\u001b[0m\u001b[0m\n\u001b[1;32m     12\u001b[0m \u001b[0;34m\u001b[0m\u001b[0m\n",
            "\u001b[0;32m/usr/local/lib/python3.10/dist-packages/PIL/Image.py\u001b[0m in \u001b[0;36mopen\u001b[0;34m(fp, mode, formats)\u001b[0m\n\u001b[1;32m   3231\u001b[0m         \u001b[0mfp\u001b[0m\u001b[0;34m.\u001b[0m\u001b[0mseek\u001b[0m\u001b[0;34m(\u001b[0m\u001b[0;36m0\u001b[0m\u001b[0;34m)\u001b[0m\u001b[0;34m\u001b[0m\u001b[0;34m\u001b[0m\u001b[0m\n\u001b[1;32m   3232\u001b[0m     \u001b[0;32mexcept\u001b[0m \u001b[0;34m(\u001b[0m\u001b[0mAttributeError\u001b[0m\u001b[0;34m,\u001b[0m \u001b[0mio\u001b[0m\u001b[0;34m.\u001b[0m\u001b[0mUnsupportedOperation\u001b[0m\u001b[0;34m)\u001b[0m\u001b[0;34m:\u001b[0m\u001b[0;34m\u001b[0m\u001b[0;34m\u001b[0m\u001b[0m\n\u001b[0;32m-> 3233\u001b[0;31m         \u001b[0mfp\u001b[0m \u001b[0;34m=\u001b[0m \u001b[0mio\u001b[0m\u001b[0;34m.\u001b[0m\u001b[0mBytesIO\u001b[0m\u001b[0;34m(\u001b[0m\u001b[0mfp\u001b[0m\u001b[0;34m.\u001b[0m\u001b[0mread\u001b[0m\u001b[0;34m(\u001b[0m\u001b[0;34m)\u001b[0m\u001b[0;34m)\u001b[0m\u001b[0;34m\u001b[0m\u001b[0;34m\u001b[0m\u001b[0m\n\u001b[0m\u001b[1;32m   3234\u001b[0m         \u001b[0mexclusive_fp\u001b[0m \u001b[0;34m=\u001b[0m \u001b[0;32mTrue\u001b[0m\u001b[0;34m\u001b[0m\u001b[0;34m\u001b[0m\u001b[0m\n\u001b[1;32m   3235\u001b[0m \u001b[0;34m\u001b[0m\u001b[0m\n",
            "\u001b[0;31mAttributeError\u001b[0m: 'dict' object has no attribute 'read'"
          ]
        }
      ],
      "source": [
        "import numpy as np\n",
        "from PIL import Image\n",
        "\n",
        "def evaluate_classification(net, image_paths, expected_labels):\n",
        "    correct_counts = {'../good': 0, '../small': 0, '../large': 0}\n",
        "\n",
        "    for category, paths in image_paths.items():\n",
        "        for image_path, expected_label in zip(paths, expected_labels[category]):\n",
        "            # Load the image\n",
        "          image = Image.op0en(image_paths).convert('L')\n",
        "          image_array = np.array(image) / 255.0\n",
        "\n",
        "            # Classify the image\n",
        "          output = net.feedforward(np.reshape(image_array, (28*28, 1)))\n",
        "          predicted_label = np.argmax(output)\n",
        "\n",
        "            # Check if the classification is correct\n",
        "          if predicted_label == expected_label:\n",
        "            correct_counts[category] += 1\n",
        "\n",
        "    return correct_counts\n",
        "\n",
        "# Assuming you have the paths and expected labels defined somewhere\n",
        "image_paths = {\n",
        "    'good': ['good0.png', 'good1.png', 'good2.png', 'good3.png', 'good4.png', 'good5.png', 'good6.png', 'good7.png', 'good8.png', 'good9.png' ],  # Add all paths for 'good' images\n",
        "    'small': ['small0.png', 'small1.png', 'small2.png', 'small3.png', 'small4.png', 'small5.png', 'small6.png', 'small7.png', 'small8.png', 'small9.png'],  # Add all paths for 'small' images\n",
        "    'large': ['large0.png', 'large1.png', 'large2.png', 'large3.png', 'large4.png', 'large5.png', 'large6.png', 'large7.png', 'large8.png', 'large9.png']  # Add all paths for 'large' images\n",
        "}\n",
        "\n",
        "expected_labels = {\n",
        "    'good': [0, 1, 2, 3, 4, 5, 6, 7, 8, 9],  # Add all expected labels for 'good' images\n",
        "    'small': [0, 1, 2, 3, 4, 5, 6, 7, 8, 9],  # Add all expected labels for 'small' images\n",
        "    'large': [0, 1, 2, 3, 4, 5, 6, 7, 8, 9]  # Add all expected labels for 'large' images\n",
        "}\n",
        "evaluate_classification(net, image_paths, expected_labels)\n",
        "# Call the function to evaluate classification\n",
        "correct_counts = evaluate_classification(net, image_paths, expected_labels)\n",
        "\n",
        "# Display the counts of correctly classified images for each category\n",
        "for category, count in correct_counts.items():\n",
        "    print(f'Correctly classified {count} images in category: {category}')\n",
        "\n",
        "\n",
        "\n",
        "def evaluate_classification(net, test_data):\n",
        "    # Lists to store correctness for each digit (0-9) for each category\n",
        "    correct_counts = {'good': [0] * 10, 'small': [0] * 10, 'large': [0] * 10}\n",
        "\n",
        "    for image, label in test_data:\n",
        "        # Classify the image using the neural network\n",
        "        output = net.feedforward(np.reshape(image, (28*28, 1)))\n",
        "        predicted_class = np.argmax(output)\n",
        "\n",
        "        # Update the correct_counts lists based on the classification\n",
        "        category = get_image_category(label)  # Assuming you have a function to get the category\n",
        "        if predicted_class == label:\n",
        "            correct_counts[category][label] += 1\n",
        "\n",
        "    return correct_counts\n",
        "\n",
        "def print_classification_results(correct_counts):\n",
        "    for category, counts in correct_counts.items():\n",
        "        print(f\"Results for {category} images:\")\n",
        "        for digit, correct_count in enumerate(counts):\n",
        "            incorrect_count = 10 - correct_count\n",
        "            print(f\"Digit {digit}: Correctly classified {correct_count} times, Incorrectly classified {incorrect_count} times\")\n",
        "        print()\n",
        "\n",
        "# Assuming you have a function get_image_category() to determine the category of an image\n",
        "def get_image_category(label):\n",
        "    if label < 5:\n",
        "        return 'good'\n",
        "    elif label < 7:\n",
        "        return 'small'\n",
        "    else:\n",
        "        return 'large'\n",
        "\n",
        "# Assuming you have test_data defined elsewhere\n",
        "correct_counts = evaluate_classification(net, test_data)\n",
        "print_classification_results(correct_counts)"
      ]
    }
  ],
  "metadata": {
    "colab": {
      "provenance": [],
      "include_colab_link": true
    },
    "kernelspec": {
      "display_name": "Python 3",
      "name": "python3"
    },
    "language_info": {
      "name": "python"
    }
  },
  "nbformat": 4,
  "nbformat_minor": 0
}