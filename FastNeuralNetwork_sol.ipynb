{
  "nbformat": 4,
  "nbformat_minor": 0,
  "metadata": {
    "colab": {
      "provenance": [],
      "include_colab_link": true
    },
    "kernelspec": {
      "name": "python3",
      "display_name": "Python 3"
    },
    "language_info": {
      "name": "python"
    }
  },
  "cells": [
    {
      "cell_type": "markdown",
      "metadata": {
        "id": "view-in-github",
        "colab_type": "text"
      },
      "source": [
        "<a href=\"https://colab.research.google.com/github/Lilbrosyrus/cosc470s24/blob/main/FastNeuralNetwork_sol.ipynb\" target=\"_parent\"><img src=\"https://colab.research.google.com/assets/colab-badge.svg\" alt=\"Open In Colab\"/></a>"
      ]
    },
    {
      "cell_type": "markdown",
      "source": [
        "The **Hello, world** of neural networks\n",
        "This code builds a simple neural network that can recognize handwritten 28x28 pixel digits.\n",
        "\n",
        "Our first version will have 15 neurons in the hidden layer and 10 output neurons.\n",
        "\n",
        "See image below:\n",
        "http://neuralnetworksanddeeplearning.com/images/tikz12.png\n",
        "\n",
        "How many weights in this network?\n",
        "11760 weights in the first layer (784 * 15) and 150 weights in the second layer (15 * 10) = 11910 weights total\n",
        "15 biases in the hidden layer and 10 biases in the output layer = 25 biases total.\n",
        "11910 + 25 = 11935 parameters!"
      ],
      "metadata": {
        "id": "X6OTVSJZLxzO"
      }
    },
    {
      "cell_type": "code",
      "execution_count": 2,
      "metadata": {
        "id": "NQQ0yjJ6LUBN",
        "colab": {
          "base_uri": "https://localhost:8080/"
        },
        "outputId": "2b3a5c5b-463d-4bd3-fdd0-638d6523fd62"
      },
      "outputs": [
        {
          "output_type": "stream",
          "name": "stdout",
          "text": [
            "Cloning into 'nn'...\n",
            "remote: Enumerating objects: 63, done.\u001b[K\n",
            "remote: Counting objects: 100% (8/8), done.\u001b[K\n",
            "remote: Compressing objects: 100% (8/8), done.\u001b[K\n",
            "remote: Total 63 (delta 1), reused 3 (delta 0), pack-reused 55\u001b[K\n",
            "Receiving objects: 100% (63/63), 16.43 MiB | 19.85 MiB/s, done.\n",
            "Resolving deltas: 100% (28/28), done.\n",
            "/content/nn\n"
          ]
        }
      ],
      "source": [
        "!git clone https://github.com/MichalDanielDobrzanski/DeepLearningPython nn\n",
        "%cd nn"
      ]
    },
    {
      "cell_type": "code",
      "source": [
        "# this code depends on having executed the previous cell\n",
        "# (i.e., you need to have cloned the nn code and cd'ed into it)\n",
        "import network\n",
        "import mnist_loader\n",
        "training_data, validation_data, test_data = mnist_loader.load_data_wrapper()\n",
        "training_data = list(training_data)\n",
        "test_data = list(test_data)\n"
      ],
      "metadata": {
        "id": "TY_GaewAIO1z"
      },
      "execution_count": 3,
      "outputs": []
    },
    {
      "cell_type": "code",
      "source": [],
      "metadata": {
        "id": "BOjf-lavEH66"
      },
      "execution_count": null,
      "outputs": []
    },
    {
      "cell_type": "code",
      "source": [
        "import numpy as np\n",
        "print(np.shape(training_data))\n",
        "print(np.shape(training_data[0][0]))\n",
        "print(np.shape(training_data[0][1]))\n",
        "print(training_data[0][1])"
      ],
      "metadata": {
        "colab": {
          "base_uri": "https://localhost:8080/"
        },
        "id": "5OCPyJhtQYtc",
        "outputId": "5c48f079-abf9-4570-c1a6-f79f014930be"
      },
      "execution_count": 4,
      "outputs": [
        {
          "output_type": "stream",
          "name": "stdout",
          "text": [
            "(50000, 2)\n",
            "(784, 1)\n",
            "(10, 1)\n",
            "[[0.]\n",
            " [0.]\n",
            " [0.]\n",
            " [0.]\n",
            " [0.]\n",
            " [1.]\n",
            " [0.]\n",
            " [0.]\n",
            " [0.]\n",
            " [0.]]\n"
          ]
        },
        {
          "output_type": "stream",
          "name": "stderr",
          "text": [
            "/usr/local/lib/python3.10/dist-packages/numpy/core/fromnumeric.py:2009: VisibleDeprecationWarning: Creating an ndarray from ragged nested sequences (which is a list-or-tuple of lists-or-tuples-or ndarrays with different lengths or shapes) is deprecated. If you meant to do this, you must specify 'dtype=object' when creating the ndarray.\n",
            "  result = asarray(a).shape\n"
          ]
        }
      ]
    },
    {
      "cell_type": "code",
      "source": [
        "# average digit darkness\n",
        "# step 1 - write a function that can calculate the darkness of a single image\n",
        "def image_darkness(imgpixeldata):\n",
        "  darkness_total = 0\n",
        "  for x in imgpixeldata:\n",
        "    darkness_total = darkness_total + x\n",
        "  return darkness_total[0]\n",
        "\n",
        "# step 2 - call that function on all the training images and calculate the average darkness of each digit\n",
        "darkness = image_darkness(training_data[0][0])\n",
        "whichimage = np.argmax(training_data[0][1])\n",
        "print(f\"The first image was a {whichimage} and its darkness was {darkness}\")\n",
        "darkness = image_darkness(training_data[1][0])\n",
        "whichimage = np.argmax(training_data[1][1])\n",
        "print(f\"The second image was a {whichimage} and its darkness was {darkness}\")\n",
        "\n",
        "# define a 10-element list of darkness totals\n",
        "darkness_totals = [0 for _ in range(10)]\n",
        "# define a 10-elment list of digit counts\n",
        "darkness_counts = [0 for _ in range(10)]\n",
        "\n",
        "# iterate through each image and update the two data structures\n",
        "for training_img in training_data:\n",
        "  darkness = 0 # replace this with the correct function call!\n",
        "  whichimage = np.argmax(training_img[1])\n",
        "  darkness_counts[whichimage] += 1\n",
        "\n",
        "# now calculate the averages\n",
        "darkness_averages = [darkness_totals[i]/darkness_counts[i] for i in range(10)]\n",
        "\n",
        "print(darkness_counts)\n",
        "print(darkness_averages)\n",
        "\n",
        "# step 3 - use those averages to classify all the test data images and count how many of each digit you get right\n",
        "def find_closest(darkness, darkness_averages):\n",
        "  # add code here that determines which average was closest to darkness\n",
        "  return 0\n",
        "\n",
        "correct_counts = [0 for _ in range(10)]\n",
        "wrong_counts = [0 for _ in range(10)]\n",
        "\n",
        "\n",
        "for imgdata, whichimage in test_data:\n",
        "  darkness = image_darkness(imgdata)\n",
        "  # see which darkness_average is closest to \"darkness\" and make that our classification for this image\n",
        "  closest_digit = find_closest(darkness, darkness_averages)\n",
        "  if closest_digit == whichimage:\n",
        "    correct_counts[whichimage] += 1\n",
        "  else:\n",
        "    wrong_counts[whichimage] += 1\n",
        "\n",
        "# now that we have our correct/wrong counts, turn that into accuracies\n",
        "accuracies = [correct_counts[i]/(correct_counts[i]+wrong_counts[i]) for i in range(10)]\n",
        "print(accuracies)"
      ],
      "metadata": {
        "colab": {
          "base_uri": "https://localhost:8080/"
        },
        "id": "xiMrbkucJPL9",
        "outputId": "97e8f9dc-e329-4055-d76d-9077ec194b9e"
      },
      "execution_count": 5,
      "outputs": [
        {
          "output_type": "stream",
          "name": "stdout",
          "text": [
            "The first image was a 5 and its darkness was 107.51953125\n",
            "The second image was a 0 and its darkness was 121.46484375\n",
            "[4932, 5678, 4968, 5101, 4859, 4506, 4951, 5175, 4842, 4988]\n",
            "[0.0, 0.0, 0.0, 0.0, 0.0, 0.0, 0.0, 0.0, 0.0, 0.0]\n",
            "[1.0, 0.0, 0.0, 0.0, 0.0, 0.0, 0.0, 0.0, 0.0, 0.0]\n"
          ]
        }
      ]
    },
    {
      "cell_type": "code",
      "source": [
        "print(np.shape(test_data))\n",
        "print(np.shape(test_data[0]))\n",
        "print(test_data[0][1])\n"
      ],
      "metadata": {
        "colab": {
          "base_uri": "https://localhost:8080/"
        },
        "id": "vRcQD33wRB1c",
        "outputId": "c322db77-6a11-4ac5-91d9-30ccaa0f8ee4"
      },
      "execution_count": 6,
      "outputs": [
        {
          "output_type": "stream",
          "name": "stdout",
          "text": [
            "(10000, 2)\n",
            "(2,)\n",
            "7\n"
          ]
        }
      ]
    },
    {
      "cell_type": "code",
      "source": [
        " # part 2 - use this default configuration and the following hyper-parameters\n",
        " #epochs - 30\n",
        " # batch size = 10\n",
        "  # learning rate - 3.0\n",
        "net = network.Network([784, 30, 10])\n",
        "net.SGD(training_data, 30, 10, 3.0, test_data=test_data)"
      ],
      "metadata": {
        "colab": {
          "base_uri": "https://localhost:8080/"
        },
        "id": "V3qm9cgIQ2rh",
        "outputId": "6652d9b6-5a72-49c2-9c3c-7624e2cdde9e"
      },
      "execution_count": 7,
      "outputs": [
        {
          "output_type": "stream",
          "name": "stdout",
          "text": [
            "Epoch 0 : 9110 / 10000\n",
            "Epoch 1 : 9184 / 10000\n",
            "Epoch 2 : 9338 / 10000\n",
            "Epoch 3 : 9368 / 10000\n",
            "Epoch 4 : 9390 / 10000\n",
            "Epoch 5 : 9366 / 10000\n",
            "Epoch 6 : 9437 / 10000\n",
            "Epoch 7 : 9442 / 10000\n",
            "Epoch 8 : 9448 / 10000\n",
            "Epoch 9 : 9446 / 10000\n",
            "Epoch 10 : 9455 / 10000\n",
            "Epoch 11 : 9451 / 10000\n",
            "Epoch 12 : 9474 / 10000\n",
            "Epoch 13 : 9497 / 10000\n",
            "Epoch 14 : 9483 / 10000\n",
            "Epoch 15 : 9496 / 10000\n",
            "Epoch 16 : 9491 / 10000\n",
            "Epoch 17 : 9483 / 10000\n",
            "Epoch 18 : 9478 / 10000\n",
            "Epoch 19 : 9498 / 10000\n",
            "Epoch 20 : 9501 / 10000\n",
            "Epoch 21 : 9497 / 10000\n",
            "Epoch 22 : 9489 / 10000\n",
            "Epoch 23 : 9507 / 10000\n",
            "Epoch 24 : 9498 / 10000\n",
            "Epoch 25 : 9500 / 10000\n",
            "Epoch 26 : 9530 / 10000\n",
            "Epoch 27 : 9513 / 10000\n",
            "Epoch 28 : 9506 / 10000\n",
            "Epoch 29 : 9513 / 10000\n"
          ]
        }
      ]
    },
    {
      "cell_type": "code",
      "source": [
        "a = net.feedforward(list(test_data)[2][0])\n",
        "print(a)\n",
        "print(np.argmax(a))\n",
        "print(list(test_data)[2][1])\n",
        "\n",
        "#per digit accuracies\n",
        "#loop through the test data again\n",
        "#calculate how many of each digit was classified correctly\n",
        "correct_counts = [0 for _ in range(10)]\n",
        "digit_counts = [0 for _ in range(10)]\n",
        "\n",
        "for (x,y) in test_data:\n",
        "  a = np.argmax(net.feedforward(x))\n",
        "  if a == y:\n",
        "    correct_counts[y] += 1\n",
        "    digit_counts[y] += 1\n",
        "\n",
        "print(correct_counts)\n",
        "print(digit_counts)\n",
        "accuracies = [correct_counts[i]/(correct_counts[i]+digit_counts[i]) for i in range(10)]\n",
        "print(accuracies)"
      ],
      "metadata": {
        "id": "4Afkob-apAbd",
        "colab": {
          "base_uri": "https://localhost:8080/"
        },
        "outputId": "a07607d2-d5ad-443b-ad59-3597bdfde2ba"
      },
      "execution_count": 8,
      "outputs": [
        {
          "output_type": "stream",
          "name": "stdout",
          "text": [
            "[[9.59756714e-12]\n",
            " [9.99990182e-01]\n",
            " [7.29345198e-07]\n",
            " [4.10337789e-09]\n",
            " [8.81522205e-08]\n",
            " [1.80636619e-08]\n",
            " [1.30271741e-07]\n",
            " [4.67906767e-06]\n",
            " [7.82269566e-08]\n",
            " [3.90750048e-09]]\n",
            "1\n",
            "1\n",
            "[963, 1118, 971, 963, 929, 823, 923, 968, 911, 944]\n",
            "[963, 1118, 971, 963, 929, 823, 923, 968, 911, 944]\n",
            "[0.5, 0.5, 0.5, 0.5, 0.5, 0.5, 0.5, 0.5, 0.5, 0.5]\n"
          ]
        }
      ]
    },
    {
      "cell_type": "code",
      "source": [
        "import matplotlib.pyplot as plt #matrix plotting library is what matplotlib represent\n",
        "fig = plt.figure(figsize = (10, 5))\n",
        " #creating the bar plot\n",
        "plt.bar(range(0,10), accuracies, color = 'maroon', width = 0.4)\n",
        "plt.xlabel(\"Digit\")\n",
        "plt.ylabel(\"Accuracy\")\n",
        "plt.title(\"Per digit accuracy for standard hyperpararams\")\n",
        "plt.show()"
      ],
      "metadata": {
        "id": "S4wwQBuQBpqi",
        "colab": {
          "base_uri": "https://localhost:8080/",
          "height": 487
        },
        "outputId": "3a41ac7c-1ee4-47ab-e1e0-9a9d0644fdda"
      },
      "execution_count": 9,
      "outputs": [
        {
          "output_type": "display_data",
          "data": {
            "text/plain": [
              "<Figure size 1000x500 with 1 Axes>"
            ],
            "image/png": "[encoded data removed]"
          },
          "metadata": {}
        }
      ]
    },
    {
      "cell_type": "code",
      "source": [
        "print(np.shape(net.weights[0]))\n",
        "print(net.weights[0])"
      ],
      "metadata": {
        "colab": {
          "base_uri": "https://localhost:8080/"
        },
        "id": "-adILgnNKqe9",
        "outputId": "06e8b018-ca33-489d-8d67-4d3ec089a9db"
      },
      "execution_count": 10,
      "outputs": [
        {
          "output_type": "stream",
          "name": "stdout",
          "text": [
            "(30, 784)\n",
            "[[ 0.48730287 -0.93912712  1.80723816 ...  0.36130398  0.38093913\n",
            "  -0.35312933]\n",
            " [-1.0928759  -0.07812877 -1.79740559 ...  0.82154046 -0.71037667\n",
            "   0.0164443 ]\n",
            " [-1.02090251  1.17702991  0.66633962 ... -0.59616529  0.46486055\n",
            "  -0.35310928]\n",
            " ...\n",
            " [-1.14020353  0.74531283  0.12572964 ... -0.6548735   1.12305969\n",
            "  -0.83638724]\n",
            " [ 0.33924367  0.53592696 -0.68572437 ...  0.214662   -0.08280708\n",
            "  -0.4746836 ]\n",
            " [-2.15844765 -1.63356296  1.70440495 ...  1.75446901 -0.71344874\n",
            "  -0.72867326]]\n"
          ]
        }
      ]
    },
    {
      "cell_type": "code",
      "source": [
        "print(np.shape(net.weights[1]))\n",
        "print(net.weights[1])"
      ],
      "metadata": {
        "colab": {
          "base_uri": "https://localhost:8080/"
        },
        "id": "3HFpBqj4MJWh",
        "outputId": "23e35f20-b1ce-4c2c-8083-11a34293bbe5"
      },
      "execution_count": 11,
      "outputs": [
        {
          "output_type": "stream",
          "name": "stdout",
          "text": [
            "(10, 30)\n",
            "[[ -1.29139711  -1.84195652  -3.43001937  -2.03030008   5.36093525\n",
            "    3.27587573   2.03655303   1.13559105  -3.26751498  -0.57057863\n",
            "    1.91596473  -0.72247921  -2.53472514  -4.07570148   3.38505408\n",
            "   -1.38287397  -1.67071165  -2.8958389    4.83643088  -2.41081922\n",
            "   -0.16869751  -3.11948202  -0.54640586  -3.04911727  -2.90477343\n",
            "   -3.46896171   0.25202466  -2.29365492  -3.57449809  -2.23043716]\n",
            " [ -3.22364926  -3.04945002   1.44940437   2.39374878  -1.60348112\n",
            "   -1.198855     1.23477218   3.05068629   1.19137364   5.4015639\n",
            "   -3.48906076  -2.91346212   3.6572524   -0.08083854  -1.93581347\n",
            "   -0.35683726  -6.95260552   6.73605933  -1.02330978   3.6696986\n",
            "   -0.71678366  -1.28169495  -1.80040767  -2.04206397   0.37749231\n",
            "   -4.92710524  -0.74755832  -1.4690335   -0.63266535   1.75762097]\n",
            " [ -4.01564579  -4.61597766   2.409645    -6.34920852  -3.31573409\n",
            "   -1.28510698  10.68657715  -0.95477747  -0.69788844   1.05175295\n",
            "   -1.52001361   0.83313963  -2.76094048   3.63062082  -0.25353325\n",
            "   -3.24958353  -3.27770568  -7.73219289  -1.91401563  -1.60231183\n",
            "    5.12934419  -1.68067837  -0.68783998  -0.95499984   0.65488312\n",
            "    5.02392094   0.3369113   -0.38366212  -2.90641807   5.72701973]\n",
            " [  1.40041309   1.36523345   2.80585279  -4.3415441   -4.91863664\n",
            "   -8.54946031  -3.90423136   2.07004317   2.13471325  -6.59211288\n",
            "    2.50173732  -3.08390703   8.65173049  -3.20652076   0.92503812\n",
            "   -4.77336429  -1.06686753  -2.23763061  -1.32035771  -0.04825928\n",
            "   -2.87352239  -5.63174919  -3.4786568   -3.65497572  -2.30469122\n",
            "    4.19253054  -3.4063512    0.33658651   5.34949891  -6.6671112 ]\n",
            " [ -4.39408517  -1.20682132  -3.96299336  -2.33047794   0.48558401\n",
            "   -0.3447993   -5.06899237   0.412752     2.61420757   5.99892972\n",
            "    0.02088089   5.50748811   0.46186329  -7.77717564  -4.80623608\n",
            "   -3.97502979   5.15248814  -1.7942236   -4.52086448   1.28104628\n",
            "    0.86194967  -1.76343793  -1.2188303   -3.54586546   1.8120388\n",
            "   -6.02003141  -3.78305393   4.52495588  -2.03465972  -1.36907567]\n",
            " [ -0.19514738  -0.01709535   0.21204991   4.97764243 -10.0084961\n",
            "   -4.1500115   -0.52734523  -2.43103513  -0.90856123  -1.55501567\n",
            "    3.44432003  -3.14430981  -8.73251753  -0.93215818   1.7044703\n",
            "    7.93338195   2.45187919   2.89494676  -1.47248797  -1.17495586\n",
            "    1.2358106   -2.01021675  -5.46019353  -4.57348611  -4.77805354\n",
            "   -1.92382989   0.94884066   0.44389554   7.66941185   0.20894292]\n",
            " [  3.46168737   0.16427294  -3.65212581   2.38865654  -4.01224315\n",
            "    1.05674727  -4.26521612   4.8321522   -1.07128685  -3.77658182\n",
            "   -2.41367481   0.66689196  -2.81338281   4.59058384  -4.30447197\n",
            "    1.38198556   1.15005105  -4.78034385   2.11879888   0.97633068\n",
            "    1.10985634  -0.1584368   -3.63012998  -5.42655601  -1.40084875\n",
            "   -6.16813536   2.77372855   3.8454326   -2.16917691  -3.4968847 ]\n",
            " [ -0.39924123   6.36539386   5.29097287   1.05414253   2.9775454\n",
            "    2.70902959  -3.69181489  -0.45885407   1.88485147   0.36941602\n",
            "   -1.5714634    1.07361016  -1.60062626  -5.82149106   0.92776212\n",
            "    0.76068453   1.30243314  -2.72626491   1.7634402   -2.89278239\n",
            "   -2.62289224   7.90397902  -6.47902472  -3.4648183    3.07946442\n",
            "   -0.41345996  -0.98613528  -1.71486617   0.49554219   1.93904072]\n",
            " [  0.8825865   -4.56534442  -2.08206376  -4.57236115  -3.91932353\n",
            "    1.0486439   -2.36964383  -4.98564945  -0.9310211   -4.38485227\n",
            "   -3.34505358  -6.68485688  -3.12156567  -3.02524447  -3.41361381\n",
            "   -8.14875574  -1.30483633  -7.30520782   2.94783188   2.51038438\n",
            "    3.38229177  -2.60840196   0.71251894  -1.63742075   2.71707901\n",
            "   -4.50231833  -3.10212005   0.06091995   3.31750515  -8.57774917]\n",
            " [  4.99894724   2.69611053  -5.84708582  -0.28422274   0.81378787\n",
            "   -0.6747268    1.45917299  -3.07093237  -2.8227987   -4.75169345\n",
            "    3.67469181   4.24775194  -0.24242212  -3.90636433   0.595233\n",
            "   -3.14572683  -3.30136349   4.10286048  -3.44599083   0.61405615\n",
            "   -1.49830816 -10.59839676  -1.72658715  -4.76185223   3.06815382\n",
            "   -5.73926543   3.39649527  -4.74580638  -0.36215969  -3.45330199]]\n"
          ]
        }
      ]
    },
    {
      "cell_type": "code",
      "source": [
        "# part 3 - experiment with different hyper parameters\n",
        "#epochs - 5, 15, 30, 60 (Batch size 10, learning 3.0)\n",
        "#batch - 5, 10, 50, 100 (epochs 30, learning data 5.0)\n",
        "#learning rate - 1.0, 3.0, 5.0 (epochs 30, batch size 10)\n",
        "net = network.Network([784, 30, 10])\n",
        "net.SGD(training_data, 5, 10, 3.0, test_data=test_data) #reabstantiating the network and running the different parameters (Which are the training data)"
      ],
      "metadata": {
        "id": "CqpW14D6_txi",
        "colab": {
          "base_uri": "https://localhost:8080/"
        },
        "outputId": "d665c3b0-ec09-4070-9980-03a402553079"
      },
      "execution_count": 12,
      "outputs": [
        {
          "output_type": "stream",
          "name": "stdout",
          "text": [
            "Epoch 0 : 9108 / 10000\n",
            "Epoch 1 : 9237 / 10000\n",
            "Epoch 2 : 9299 / 10000\n",
            "Epoch 3 : 9283 / 10000\n",
            "Epoch 4 : 9329 / 10000\n"
          ]
        }
      ]
    },
    {
      "cell_type": "code",
      "source": [
        "a = net.feedforward(list(test_data)[2][0])\n",
        "print(a)\n",
        "print(np.argmax(a))\n",
        "print(list(test_data)[2][1])\n",
        "\n",
        "#per digit accuracies\n",
        "#loop through the test data again\n",
        "#calculate how many of each digit was classified correctly\n",
        "correct_counts = [0 for _ in range(10)]\n",
        "digit_counts = [0 for _ in range(10)]\n",
        "\n",
        "for (x,y) in test_data:\n",
        "  a = np.argmax(net.feedforward(x))\n",
        "  if a == y:\n",
        "    correct_counts[y] += 1\n",
        "    digit_counts[y] += 1\n",
        "\n",
        "print(correct_counts)\n",
        "print(digit_counts)\n",
        "accuracies = [correct_counts[i]/(correct_counts[i]+digit_counts[i]) for i in range(10)]\n",
        "print(accuracies)"
      ],
      "metadata": {
        "id": "nYQ_BSdoBozL",
        "colab": {
          "base_uri": "https://localhost:8080/"
        },
        "outputId": "c1fef3a1-4b8e-40eb-bd61-9222ad6d8dff"
      },
      "execution_count": 13,
      "outputs": [
        {
          "output_type": "stream",
          "name": "stdout",
          "text": [
            "[[1.41215729e-07]\n",
            " [9.99310514e-01]\n",
            " [2.97677494e-04]\n",
            " [4.28519771e-04]\n",
            " [1.14563391e-06]\n",
            " [2.63526433e-04]\n",
            " [1.43594214e-04]\n",
            " [3.02721088e-04]\n",
            " [3.70170043e-05]\n",
            " [1.12311560e-05]]\n",
            "1\n",
            "1\n",
            "[953, 1108, 935, 944, 946, 807, 888, 960, 879, 909]\n",
            "[953, 1108, 935, 944, 946, 807, 888, 960, 879, 909]\n",
            "[0.5, 0.5, 0.5, 0.5, 0.5, 0.5, 0.5, 0.5, 0.5, 0.5]\n"
          ]
        }
      ]
    },
    {
      "cell_type": "code",
      "source": [
        "import matplotlib.pyplot as plt #matrix plotting library is what matplotlib represent\n",
        "fig = plt.figure(figsize = (10, 5))\n",
        " #creating the bar plot\n",
        "plt.bar(range(0,10), accuracies, color = 'maroon', width = 0.4)\n",
        "plt.xlabel(\"Digit\")\n",
        "plt.ylabel(\"Accuracy\")\n",
        "plt.title(\"Per digit accuracy for standard hyperpararams\")\n",
        "plt.show()"
      ],
      "metadata": {
        "id": "5pFeQIV9dMKA",
        "colab": {
          "base_uri": "https://localhost:8080/",
          "height": 487
        },
        "outputId": "c0789994-d689-42e4-d11e-4f34140e46ec"
      },
      "execution_count": 14,
      "outputs": [
        {
          "output_type": "display_data",
          "data": {
            "text/plain": [
              "<Figure size 1000x500 with 1 Axes>"
            ],
            "image/png": "[encoded data removed]"
          },
          "metadata": {}
        }
      ]
    },
    {
      "cell_type": "code",
      "source": [
        "net = network.Network([784, 30, 10])\n",
        "net.SGD(training_data, 15, 10, 3.0, test_data=test_data)"
      ],
      "metadata": {
        "id": "-CtFNIHvDai0",
        "colab": {
          "base_uri": "https://localhost:8080/"
        },
        "outputId": "c29df25c-cf23-4e5e-cf05-38c9c6f6e4d9"
      },
      "execution_count": 15,
      "outputs": [
        {
          "output_type": "stream",
          "name": "stdout",
          "text": [
            "Epoch 0 : 9028 / 10000\n",
            "Epoch 1 : 9210 / 10000\n",
            "Epoch 2 : 9289 / 10000\n",
            "Epoch 3 : 9307 / 10000\n",
            "Epoch 4 : 9328 / 10000\n",
            "Epoch 5 : 9377 / 10000\n",
            "Epoch 6 : 9365 / 10000\n",
            "Epoch 7 : 9386 / 10000\n",
            "Epoch 8 : 9398 / 10000\n",
            "Epoch 9 : 9434 / 10000\n",
            "Epoch 10 : 9454 / 10000\n",
            "Epoch 11 : 9424 / 10000\n",
            "Epoch 12 : 9425 / 10000\n",
            "Epoch 13 : 9453 / 10000\n",
            "Epoch 14 : 9467 / 10000\n"
          ]
        }
      ]
    },
    {
      "cell_type": "code",
      "source": [
        "a = net.feedforward(list(test_data)[2][0])\n",
        "print(a)\n",
        "print(np.argmax(a))\n",
        "print(list(test_data)[2][1])\n",
        "\n",
        "#per digit accuracies\n",
        "#loop through the test data again\n",
        "#calculate how many of each digit was classified correctly\n",
        "correct_counts = [0 for _ in range(10)]\n",
        "digit_counts = [0 for _ in range(10)]\n",
        "\n",
        "for (x,y) in test_data:\n",
        "  a = np.argmax(net.feedforward(x))\n",
        "  if a == y:\n",
        "    correct_counts[y] += 1\n",
        "    digit_counts[y] += 1\n",
        "\n",
        "print(correct_counts)\n",
        "print(digit_counts)\n",
        "accuracies = [correct_counts[i]/(correct_counts[i]+digit_counts[i]) for i in range(10)]\n",
        "print(accuracies)\n"
      ],
      "metadata": {
        "id": "YxOldvpecQDv",
        "colab": {
          "base_uri": "https://localhost:8080/"
        },
        "outputId": "3b1ae326-4c51-46d7-9952-14c7e93bb4d6"
      },
      "execution_count": 16,
      "outputs": [
        {
          "output_type": "stream",
          "name": "stdout",
          "text": [
            "[[1.81340790e-12]\n",
            " [9.99986383e-01]\n",
            " [2.23452226e-04]\n",
            " [3.28561211e-03]\n",
            " [5.16391493e-07]\n",
            " [4.46997144e-04]\n",
            " [4.88011179e-06]\n",
            " [1.43381588e-05]\n",
            " [5.99154600e-05]\n",
            " [2.68818045e-07]]\n",
            "1\n",
            "1\n",
            "[962, 1119, 977, 970, 900, 816, 920, 983, 903, 917]\n",
            "[962, 1119, 977, 970, 900, 816, 920, 983, 903, 917]\n",
            "[0.5, 0.5, 0.5, 0.5, 0.5, 0.5, 0.5, 0.5, 0.5, 0.5]\n"
          ]
        }
      ]
    },
    {
      "cell_type": "code",
      "source": [
        "import matplotlib.pyplot as plt #matrix plotting library is what matplotlib represent\n",
        "fig = plt.figure(figsize = (10, 5))\n",
        " #creating the bar plot\n",
        "plt.bar(range(0,10), accuracies, color = 'maroon', width = 0.4)\n",
        "plt.xlabel(\"Digit\")\n",
        "plt.ylabel(\"Accuracy\")\n",
        "plt.title(\"Per digit accuracy for standard hyperpararams\")\n",
        "plt.show()"
      ],
      "metadata": {
        "id": "wsM2pguOdJZd",
        "colab": {
          "base_uri": "https://localhost:8080/",
          "height": 487
        },
        "outputId": "3849707f-2abe-485d-d86a-08a979631fd3"
      },
      "execution_count": 17,
      "outputs": [
        {
          "output_type": "display_data",
          "data": {
            "text/plain": [
              "<Figure size 1000x500 with 1 Axes>"
            ],
            "image/png": "[encoded data removed]"
          },
          "metadata": {}
        }
      ]
    },
    {
      "cell_type": "code",
      "source": [
        "net = network.Network([784, 30, 10])\n",
        "net.SGD(training_data, 30, 10, 3.0, test_data=test_data)"
      ],
      "metadata": {
        "id": "VOMdpJAoKY8V",
        "colab": {
          "base_uri": "https://localhost:8080/"
        },
        "outputId": "79b80872-7a0b-41be-9ce3-04cc8652a64c"
      },
      "execution_count": 18,
      "outputs": [
        {
          "output_type": "stream",
          "name": "stdout",
          "text": [
            "Epoch 0 : 9028 / 10000\n",
            "Epoch 1 : 9231 / 10000\n",
            "Epoch 2 : 9319 / 10000\n",
            "Epoch 3 : 9342 / 10000\n",
            "Epoch 4 : 9392 / 10000\n",
            "Epoch 5 : 9414 / 10000\n",
            "Epoch 6 : 9415 / 10000\n",
            "Epoch 7 : 9420 / 10000\n",
            "Epoch 8 : 9436 / 10000\n",
            "Epoch 9 : 9421 / 10000\n",
            "Epoch 10 : 9417 / 10000\n",
            "Epoch 11 : 9453 / 10000\n",
            "Epoch 12 : 9430 / 10000\n",
            "Epoch 13 : 9447 / 10000\n",
            "Epoch 14 : 9461 / 10000\n",
            "Epoch 15 : 9473 / 10000\n",
            "Epoch 16 : 9489 / 10000\n",
            "Epoch 17 : 9487 / 10000\n",
            "Epoch 18 : 9489 / 10000\n",
            "Epoch 19 : 9495 / 10000\n",
            "Epoch 20 : 9471 / 10000\n",
            "Epoch 21 : 9487 / 10000\n",
            "Epoch 22 : 9497 / 10000\n",
            "Epoch 23 : 9487 / 10000\n",
            "Epoch 24 : 9488 / 10000\n",
            "Epoch 25 : 9496 / 10000\n",
            "Epoch 26 : 9509 / 10000\n",
            "Epoch 27 : 9510 / 10000\n",
            "Epoch 28 : 9494 / 10000\n",
            "Epoch 29 : 9502 / 10000\n"
          ]
        }
      ]
    },
    {
      "cell_type": "code",
      "source": [
        "a = net.feedforward(list(test_data)[2][0])\n",
        "print(a)\n",
        "print(np.argmax(a))\n",
        "print(list(test_data)[2][1])\n",
        "\n",
        "#per digit accuracies\n",
        "#loop through the test data again\n",
        "#calculate how many of each digit was classified correctly\n",
        "correct_counts = [0 for _ in range(10)]\n",
        "digit_counts = [0 for _ in range(10)]\n",
        "\n",
        "for (x,y) in test_data:\n",
        "  a = np.argmax(net.feedforward(x))\n",
        "  if a == y:\n",
        "    correct_counts[y] += 1\n",
        "    digit_counts[y] += 1\n",
        "\n",
        "print(correct_counts)\n",
        "print(digit_counts)\n",
        "accuracies = [correct_counts[i]/(correct_counts[i]+digit_counts[i]) for i in range(10)]\n",
        "print(accuracies)"
      ],
      "metadata": {
        "id": "28IAIYaYCawu",
        "colab": {
          "base_uri": "https://localhost:8080/"
        },
        "outputId": "070708cf-0d38-445b-cde0-09b75bd1bb88"
      },
      "execution_count": 19,
      "outputs": [
        {
          "output_type": "stream",
          "name": "stdout",
          "text": [
            "[[9.13336309e-11]\n",
            " [9.99941776e-01]\n",
            " [3.43069613e-07]\n",
            " [7.98001657e-08]\n",
            " [2.53462758e-09]\n",
            " [3.47899356e-04]\n",
            " [1.33691564e-06]\n",
            " [6.75357366e-06]\n",
            " [6.67800862e-07]\n",
            " [4.96076652e-08]]\n",
            "1\n",
            "1\n",
            "[955, 1119, 983, 940, 942, 837, 924, 965, 890, 947]\n",
            "[955, 1119, 983, 940, 942, 837, 924, 965, 890, 947]\n",
            "[0.5, 0.5, 0.5, 0.5, 0.5, 0.5, 0.5, 0.5, 0.5, 0.5]\n"
          ]
        }
      ]
    },
    {
      "cell_type": "code",
      "source": [
        "import matplotlib.pyplot as plt #matrix plotting library is what matplotlib represent\n",
        "fig = plt.figure(figsize = (10, 5))\n",
        " #creating the bar plot\n",
        "plt.bar(range(0,10), accuracies, color = 'maroon', width = 0.4)\n",
        "plt.xlabel(\"Digit\")\n",
        "plt.ylabel(\"Accuracy\")\n",
        "plt.title(\"Per digit accuracy for standard hyperpararams\")\n",
        "plt.show()"
      ],
      "metadata": {
        "id": "Wo7iqao-Cen0",
        "colab": {
          "base_uri": "https://localhost:8080/",
          "height": 487
        },
        "outputId": "0948b483-10b0-4259-a9ca-362ecbaaa7ff"
      },
      "execution_count": 20,
      "outputs": [
        {
          "output_type": "display_data",
          "data": {
            "text/plain": [
              "<Figure size 1000x500 with 1 Axes>"
            ],
            "image/png": "[encoded data removed]"
          },
          "metadata": {}
        }
      ]
    },
    {
      "cell_type": "code",
      "source": [
        "net = network.Network([784, 30, 10])\n",
        "net.SGD(training_data, 60, 10, 3.0, test_data=test_data)"
      ],
      "metadata": {
        "id": "l-fdpwJGLT9z",
        "colab": {
          "base_uri": "https://localhost:8080/"
        },
        "outputId": "d2032f9d-5cd6-441c-c5e6-befe0b5e182c"
      },
      "execution_count": 21,
      "outputs": [
        {
          "output_type": "stream",
          "name": "stdout",
          "text": [
            "Epoch 0 : 9074 / 10000\n",
            "Epoch 1 : 9221 / 10000\n",
            "Epoch 2 : 9269 / 10000\n",
            "Epoch 3 : 9280 / 10000\n",
            "Epoch 4 : 9368 / 10000\n",
            "Epoch 5 : 9385 / 10000\n",
            "Epoch 6 : 9406 / 10000\n",
            "Epoch 7 : 9418 / 10000\n",
            "Epoch 8 : 9428 / 10000\n",
            "Epoch 9 : 9443 / 10000\n",
            "Epoch 10 : 9429 / 10000\n",
            "Epoch 11 : 9458 / 10000\n",
            "Epoch 12 : 9480 / 10000\n",
            "Epoch 13 : 9456 / 10000\n",
            "Epoch 14 : 9470 / 10000\n",
            "Epoch 15 : 9471 / 10000\n",
            "Epoch 16 : 9478 / 10000\n",
            "Epoch 17 : 9485 / 10000\n",
            "Epoch 18 : 9480 / 10000\n",
            "Epoch 19 : 9483 / 10000\n",
            "Epoch 20 : 9479 / 10000\n",
            "Epoch 21 : 9495 / 10000\n",
            "Epoch 22 : 9507 / 10000\n",
            "Epoch 23 : 9500 / 10000\n",
            "Epoch 24 : 9480 / 10000\n",
            "Epoch 25 : 9491 / 10000\n",
            "Epoch 26 : 9512 / 10000\n",
            "Epoch 27 : 9493 / 10000\n",
            "Epoch 28 : 9509 / 10000\n",
            "Epoch 29 : 9520 / 10000\n",
            "Epoch 30 : 9501 / 10000\n",
            "Epoch 31 : 9496 / 10000\n",
            "Epoch 32 : 9475 / 10000\n",
            "Epoch 33 : 9496 / 10000\n",
            "Epoch 34 : 9522 / 10000\n",
            "Epoch 35 : 9518 / 10000\n",
            "Epoch 36 : 9504 / 10000\n",
            "Epoch 37 : 9493 / 10000\n",
            "Epoch 38 : 9503 / 10000\n",
            "Epoch 39 : 9529 / 10000\n",
            "Epoch 40 : 9488 / 10000\n",
            "Epoch 41 : 9506 / 10000\n",
            "Epoch 42 : 9493 / 10000\n",
            "Epoch 43 : 9505 / 10000\n",
            "Epoch 44 : 9505 / 10000\n",
            "Epoch 45 : 9483 / 10000\n",
            "Epoch 46 : 9500 / 10000\n",
            "Epoch 47 : 9507 / 10000\n",
            "Epoch 48 : 9506 / 10000\n",
            "Epoch 49 : 9514 / 10000\n",
            "Epoch 50 : 9516 / 10000\n",
            "Epoch 51 : 9502 / 10000\n",
            "Epoch 52 : 9507 / 10000\n",
            "Epoch 53 : 9500 / 10000\n",
            "Epoch 54 : 9486 / 10000\n",
            "Epoch 55 : 9500 / 10000\n",
            "Epoch 56 : 9505 / 10000\n",
            "Epoch 57 : 9506 / 10000\n",
            "Epoch 58 : 9510 / 10000\n",
            "Epoch 59 : 9511 / 10000\n"
          ]
        }
      ]
    },
    {
      "cell_type": "code",
      "source": [
        "a = net.feedforward(list(test_data)[2][0])\n",
        "print(a)\n",
        "print(np.argmax(a))\n",
        "print(list(test_data)[2][1])\n",
        "\n",
        "#per digit accuracies\n",
        "#loop through the test data again\n",
        "#calculate how many of each digit was classified correctly\n",
        "correct_counts = [0 for _ in range(10)]\n",
        "digit_counts = [0 for _ in range(10)]\n",
        "\n",
        "for (x,y) in test_data:\n",
        "  a = np.argmax(net.feedforward(x))\n",
        "  if a == y:\n",
        "    correct_counts[y] += 1\n",
        "    digit_counts[y] += 1\n",
        "\n",
        "print(correct_counts)\n",
        "print(digit_counts)\n",
        "accuracies = [correct_counts[i]/(correct_counts[i]+digit_counts[i]) for i in range(10)]\n",
        "print(accuracies)"
      ],
      "metadata": {
        "id": "PFhM5hNACwuO",
        "colab": {
          "base_uri": "https://localhost:8080/"
        },
        "outputId": "eabacb7a-9c99-4d95-ac2d-1467543b8f18"
      },
      "execution_count": 23,
      "outputs": [
        {
          "output_type": "stream",
          "name": "stdout",
          "text": [
            "[[1.79334859e-12]\n",
            " [9.99977676e-01]\n",
            " [1.41077886e-10]\n",
            " [1.03223298e-09]\n",
            " [3.18186654e-09]\n",
            " [5.66323241e-09]\n",
            " [1.37786761e-07]\n",
            " [1.58974794e-04]\n",
            " [2.56030120e-04]\n",
            " [2.22959642e-10]]\n",
            "1\n",
            "1\n",
            "[957, 1118, 983, 952, 941, 811, 919, 979, 928, 923]\n",
            "[957, 1118, 983, 952, 941, 811, 919, 979, 928, 923]\n",
            "[0.5, 0.5, 0.5, 0.5, 0.5, 0.5, 0.5, 0.5, 0.5, 0.5]\n"
          ]
        }
      ]
    },
    {
      "cell_type": "code",
      "source": [
        "import matplotlib.pyplot as plt #matrix plotting library is what matplotlib represent\n",
        "fig = plt.figure(figsize = (10, 5))\n",
        " #creating the bar plot\n",
        "plt.bar(range(0,10), accuracies, color = 'maroon', width = 0.4)\n",
        "plt.xlabel(\"Digit\")\n",
        "plt.ylabel(\"Accuracy\")\n",
        "plt.title(\"Per digit accuracy for standard hyperpararams\")\n",
        "plt.show()"
      ],
      "metadata": {
        "id": "lPvSo2NIC2ld",
        "colab": {
          "base_uri": "https://localhost:8080/",
          "height": 487
        },
        "outputId": "2024a635-e4dc-4c97-bbab-f917e0358b2d"
      },
      "execution_count": 24,
      "outputs": [
        {
          "output_type": "display_data",
          "data": {
            "text/plain": [
              "<Figure size 1000x500 with 1 Axes>"
            ],
            "image/png": "[encoded data removed]"
          },
          "metadata": {}
        }
      ]
    },
    {
      "cell_type": "code",
      "source": [
        "net = network.Network([784, 30, 10])\n",
        "net.SGD(training_data, 30, 5, 5.0, test_data=test_data)"
      ],
      "metadata": {
        "id": "1fxRUkpQDAjL",
        "colab": {
          "base_uri": "https://localhost:8080/"
        },
        "outputId": "5813ef36-7b3d-494d-fb8e-2339e1c881ce"
      },
      "execution_count": 25,
      "outputs": [
        {
          "output_type": "stream",
          "name": "stdout",
          "text": [
            "Epoch 0 : 9050 / 10000\n",
            "Epoch 1 : 9274 / 10000\n",
            "Epoch 2 : 9292 / 10000\n",
            "Epoch 3 : 9339 / 10000\n",
            "Epoch 4 : 9395 / 10000\n",
            "Epoch 5 : 9333 / 10000\n",
            "Epoch 6 : 9397 / 10000\n",
            "Epoch 7 : 9390 / 10000\n",
            "Epoch 8 : 9413 / 10000\n",
            "Epoch 9 : 9390 / 10000\n",
            "Epoch 10 : 9347 / 10000\n",
            "Epoch 11 : 9439 / 10000\n",
            "Epoch 12 : 9460 / 10000\n",
            "Epoch 13 : 9412 / 10000\n",
            "Epoch 14 : 9372 / 10000\n",
            "Epoch 15 : 9463 / 10000\n",
            "Epoch 16 : 9445 / 10000\n",
            "Epoch 17 : 9448 / 10000\n",
            "Epoch 18 : 9445 / 10000\n",
            "Epoch 19 : 9442 / 10000\n",
            "Epoch 20 : 9474 / 10000\n",
            "Epoch 21 : 9474 / 10000\n",
            "Epoch 22 : 9459 / 10000\n",
            "Epoch 23 : 9453 / 10000\n",
            "Epoch 24 : 9432 / 10000\n",
            "Epoch 25 : 9500 / 10000\n",
            "Epoch 26 : 9474 / 10000\n",
            "Epoch 27 : 9478 / 10000\n",
            "Epoch 28 : 9473 / 10000\n",
            "Epoch 29 : 9482 / 10000\n"
          ]
        }
      ]
    },
    {
      "cell_type": "code",
      "source": [
        "a = net.feedforward(list(test_data)[2][0])\n",
        "print(a)\n",
        "print(np.argmax(a))\n",
        "print(list(test_data)[2][1])\n",
        "\n",
        "#per digit accuracies\n",
        "#loop through the test data again\n",
        "#calculate how many of each digit was classified correctly\n",
        "correct_counts = [0 for _ in range(10)]\n",
        "digit_counts = [0 for _ in range(10)]\n",
        "\n",
        "for (x,y) in test_data:\n",
        "  a = np.argmax(net.feedforward(x))\n",
        "  if a == y:\n",
        "    correct_counts[y] += 1\n",
        "    digit_counts[y] += 1\n",
        "\n",
        "print(correct_counts)\n",
        "print(digit_counts)\n",
        "accuracies = [correct_counts[i]/(correct_counts[i]+digit_counts[i]) for i in range(10)]\n",
        "print(accuracies)"
      ],
      "metadata": {
        "id": "UqwXPtJi-sFt",
        "colab": {
          "base_uri": "https://localhost:8080/"
        },
        "outputId": "9cb9d86f-6e9a-4913-fd3f-b1f37266ece1"
      },
      "execution_count": 26,
      "outputs": [
        {
          "output_type": "stream",
          "name": "stdout",
          "text": [
            "[[1.68331419e-13]\n",
            " [9.99997230e-01]\n",
            " [3.95278706e-07]\n",
            " [2.97766182e-12]\n",
            " [1.26330407e-09]\n",
            " [1.39715061e-13]\n",
            " [6.85299016e-07]\n",
            " [2.65294175e-03]\n",
            " [7.37374127e-08]\n",
            " [7.49610055e-14]]\n",
            "1\n",
            "1\n",
            "[961, 1114, 972, 947, 916, 829, 915, 954, 927, 947]\n",
            "[961, 1114, 972, 947, 916, 829, 915, 954, 927, 947]\n",
            "[0.5, 0.5, 0.5, 0.5, 0.5, 0.5, 0.5, 0.5, 0.5, 0.5]\n"
          ]
        }
      ]
    },
    {
      "cell_type": "code",
      "source": [
        "import matplotlib.pyplot as plt #matrix plotting library is what matplotlib represent\n",
        "fig = plt.figure(figsize = (10, 5))\n",
        " #creating the bar plot\n",
        "plt.bar(range(0,10), accuracies, color = 'maroon', width = 0.4)\n",
        "plt.xlabel(\"Digit\")\n",
        "plt.ylabel(\"Accuracy\")\n",
        "plt.title(\"Per digit accuracy for standard hyperpararams\")\n",
        "plt.show()"
      ],
      "metadata": {
        "id": "y_zqTr8FDBti",
        "colab": {
          "base_uri": "https://localhost:8080/",
          "height": 487
        },
        "outputId": "6ed1da5c-c2a4-4cfe-c550-016d0a7af931"
      },
      "execution_count": 27,
      "outputs": [
        {
          "output_type": "display_data",
          "data": {
            "text/plain": [
              "<Figure size 1000x500 with 1 Axes>"
            ],
            "image/png": "[encoded data removed]"
          },
          "metadata": {}
        }
      ]
    },
    {
      "cell_type": "code",
      "source": [
        "net = network.Network([784, 30, 10])\n",
        "net.SGD(training_data, 30, 10, 5.0, test_data=test_data)"
      ],
      "metadata": {
        "id": "a-1KH7U3-trc",
        "colab": {
          "base_uri": "https://localhost:8080/"
        },
        "outputId": "fe5c1e9a-e819-4a69-96ff-ed302278112b"
      },
      "execution_count": 28,
      "outputs": [
        {
          "output_type": "stream",
          "name": "stdout",
          "text": [
            "Epoch 0 : 8270 / 10000\n",
            "Epoch 1 : 9188 / 10000\n",
            "Epoch 2 : 9335 / 10000\n",
            "Epoch 3 : 9329 / 10000\n",
            "Epoch 4 : 9372 / 10000\n",
            "Epoch 5 : 9382 / 10000\n",
            "Epoch 6 : 9423 / 10000\n",
            "Epoch 7 : 9430 / 10000\n",
            "Epoch 8 : 9381 / 10000\n",
            "Epoch 9 : 9418 / 10000\n",
            "Epoch 10 : 9427 / 10000\n",
            "Epoch 11 : 9453 / 10000\n",
            "Epoch 12 : 9451 / 10000\n",
            "Epoch 13 : 9462 / 10000\n",
            "Epoch 14 : 9457 / 10000\n",
            "Epoch 15 : 9481 / 10000\n",
            "Epoch 16 : 9456 / 10000\n",
            "Epoch 17 : 9456 / 10000\n",
            "Epoch 18 : 9484 / 10000\n",
            "Epoch 19 : 9460 / 10000\n",
            "Epoch 20 : 9465 / 10000\n",
            "Epoch 21 : 9462 / 10000\n",
            "Epoch 22 : 9479 / 10000\n",
            "Epoch 23 : 9457 / 10000\n",
            "Epoch 24 : 9485 / 10000\n",
            "Epoch 25 : 9475 / 10000\n",
            "Epoch 26 : 9463 / 10000\n",
            "Epoch 27 : 9471 / 10000\n",
            "Epoch 28 : 9503 / 10000\n",
            "Epoch 29 : 9491 / 10000\n"
          ]
        }
      ]
    },
    {
      "cell_type": "code",
      "source": [
        "a = net.feedforward(list(test_data)[2][0])\n",
        "print(a)\n",
        "print(np.argmax(a))\n",
        "print(list(test_data)[2][1])\n",
        "\n",
        "#per digit accuracies\n",
        "#loop through the test data again\n",
        "#calculate how many of each digit was classified correctly\n",
        "correct_counts = [0 for _ in range(10)]\n",
        "digit_counts = [0 for _ in range(10)]\n",
        "\n",
        "for (x,y) in test_data:\n",
        "  a = np.argmax(net.feedforward(x))\n",
        "  if a == y:\n",
        "    correct_counts[y] += 1\n",
        "    digit_counts[y] += 1\n",
        "\n",
        "print(correct_counts)\n",
        "print(digit_counts)\n",
        "accuracies = [correct_counts[i]/(correct_counts[i]+digit_counts[i]) for i in range(10)]\n",
        "print(accuracies)"
      ],
      "metadata": {
        "id": "KpJE_f75-1gm",
        "colab": {
          "base_uri": "https://localhost:8080/"
        },
        "outputId": "024c4a25-7bc2-4e1d-86b2-d2908c5b1f52"
      },
      "execution_count": 29,
      "outputs": [
        {
          "output_type": "stream",
          "name": "stdout",
          "text": [
            "[[2.71767499e-17]\n",
            " [9.99885171e-01]\n",
            " [2.40448686e-05]\n",
            " [8.40085291e-04]\n",
            " [5.51074521e-10]\n",
            " [1.45294903e-05]\n",
            " [7.34048033e-06]\n",
            " [1.49235718e-08]\n",
            " [3.35885080e-06]\n",
            " [1.89312558e-13]]\n",
            "1\n",
            "1\n",
            "[958, 1118, 955, 942, 947, 847, 897, 975, 921, 931]\n",
            "[958, 1118, 955, 942, 947, 847, 897, 975, 921, 931]\n",
            "[0.5, 0.5, 0.5, 0.5, 0.5, 0.5, 0.5, 0.5, 0.5, 0.5]\n"
          ]
        }
      ]
    },
    {
      "cell_type": "code",
      "source": [
        "import matplotlib.pyplot as plt #matrix plotting library is what matplotlib represent\n",
        "fig = plt.figure(figsize = (10, 5))\n",
        " #creating the bar plot\n",
        "plt.bar(range(0,10), accuracies, color = 'maroon', width = 0.4)\n",
        "plt.xlabel(\"Digit\")\n",
        "plt.ylabel(\"Accuracy\")\n",
        "plt.title(\"Per digit accuracy for standard hyperpararams\")\n",
        "plt.show()"
      ],
      "metadata": {
        "id": "V8y5GBRl-3-g",
        "colab": {
          "base_uri": "https://localhost:8080/",
          "height": 487
        },
        "outputId": "1aee43a7-d598-4e0d-d167-6801ef1f82a0"
      },
      "execution_count": 30,
      "outputs": [
        {
          "output_type": "display_data",
          "data": {
            "text/plain": [
              "<Figure size 1000x500 with 1 Axes>"
            ],
            "image/png": "[encoded data removed]"
          },
          "metadata": {}
        }
      ]
    },
    {
      "cell_type": "code",
      "source": [
        "net = network.Network([784, 30, 10])\n",
        "net.SGD(training_data, 30, 50, 5.0, test_data=test_data)"
      ],
      "metadata": {
        "id": "nCu-lth_-47Z",
        "colab": {
          "base_uri": "https://localhost:8080/"
        },
        "outputId": "f1eddde4-1279-4451-bb54-b4e1122f2cd9"
      },
      "execution_count": 31,
      "outputs": [
        {
          "output_type": "stream",
          "name": "stdout",
          "text": [
            "Epoch 0 : 8756 / 10000\n",
            "Epoch 1 : 9054 / 10000\n",
            "Epoch 2 : 9160 / 10000\n",
            "Epoch 3 : 9251 / 10000\n",
            "Epoch 4 : 9272 / 10000\n",
            "Epoch 5 : 9324 / 10000\n",
            "Epoch 6 : 9329 / 10000\n",
            "Epoch 7 : 9378 / 10000\n",
            "Epoch 8 : 9375 / 10000\n",
            "Epoch 9 : 9387 / 10000\n",
            "Epoch 10 : 9418 / 10000\n",
            "Epoch 11 : 9408 / 10000\n",
            "Epoch 12 : 9418 / 10000\n",
            "Epoch 13 : 9422 / 10000\n",
            "Epoch 14 : 9434 / 10000\n",
            "Epoch 15 : 9431 / 10000\n",
            "Epoch 16 : 9454 / 10000\n",
            "Epoch 17 : 9436 / 10000\n",
            "Epoch 18 : 9450 / 10000\n",
            "Epoch 19 : 9463 / 10000\n",
            "Epoch 20 : 9469 / 10000\n",
            "Epoch 21 : 9433 / 10000\n",
            "Epoch 22 : 9477 / 10000\n",
            "Epoch 23 : 9474 / 10000\n",
            "Epoch 24 : 9471 / 10000\n",
            "Epoch 25 : 9454 / 10000\n",
            "Epoch 26 : 9488 / 10000\n",
            "Epoch 27 : 9487 / 10000\n",
            "Epoch 28 : 9478 / 10000\n",
            "Epoch 29 : 9479 / 10000\n"
          ]
        }
      ]
    },
    {
      "cell_type": "code",
      "source": [
        "a = net.feedforward(list(test_data)[2][0])\n",
        "print(a)\n",
        "print(np.argmax(a))\n",
        "print(list(test_data)[2][1])\n",
        "\n",
        "#per digit accuracies\n",
        "#loop through the test data again\n",
        "#calculate how many of each digit was classified correctly\n",
        "correct_counts = [0 for _ in range(10)]\n",
        "digit_counts = [0 for _ in range(10)]\n",
        "\n",
        "for (x,y) in test_data:\n",
        "  a = np.argmax(net.feedforward(x))\n",
        "  if a == y:\n",
        "    correct_counts[y] += 1\n",
        "    digit_counts[y] += 1\n",
        "\n",
        "print(correct_counts)\n",
        "print(digit_counts)\n",
        "accuracies = [correct_counts[i]/(correct_counts[i]+digit_counts[i]) for i in range(10)]\n",
        "print(accuracies)"
      ],
      "metadata": {
        "id": "djz1LPS3_EMj",
        "colab": {
          "base_uri": "https://localhost:8080/"
        },
        "outputId": "4fc2649e-0dcd-4f66-db52-b15e531eae7d"
      },
      "execution_count": 32,
      "outputs": [
        {
          "output_type": "stream",
          "name": "stdout",
          "text": [
            "[[2.17068107e-11]\n",
            " [9.99751818e-01]\n",
            " [2.23202955e-04]\n",
            " [2.87180909e-05]\n",
            " [1.01738675e-06]\n",
            " [9.11523862e-05]\n",
            " [1.72556679e-06]\n",
            " [1.21080018e-04]\n",
            " [1.98463817e-05]\n",
            " [3.75721578e-08]]\n",
            "1\n",
            "1\n",
            "[961, 1118, 954, 955, 945, 822, 918, 970, 900, 936]\n",
            "[961, 1118, 954, 955, 945, 822, 918, 970, 900, 936]\n",
            "[0.5, 0.5, 0.5, 0.5, 0.5, 0.5, 0.5, 0.5, 0.5, 0.5]\n"
          ]
        }
      ]
    },
    {
      "cell_type": "code",
      "source": [
        "import matplotlib.pyplot as plt #matrix plotting library is what matplotlib represent\n",
        "fig = plt.figure(figsize = (10, 5))\n",
        " #creating the bar plot\n",
        "plt.bar(range(0,10), accuracies, color = 'maroon', width = 0.4)\n",
        "plt.xlabel(\"Digit\")\n",
        "plt.ylabel(\"Accuracy\")\n",
        "plt.title(\"Per digit accuracy for standard hyperpararams\")\n",
        "plt.show()"
      ],
      "metadata": {
        "id": "u1K4mUlN_Hab",
        "colab": {
          "base_uri": "https://localhost:8080/",
          "height": 487
        },
        "outputId": "c2f51281-c903-42df-928e-abe0fef524b5"
      },
      "execution_count": 33,
      "outputs": [
        {
          "output_type": "display_data",
          "data": {
            "text/plain": [
              "<Figure size 1000x500 with 1 Axes>"
            ],
            "image/png": "[encoded data removed]"
          },
          "metadata": {}
        }
      ]
    },
    {
      "cell_type": "code",
      "source": [
        "net = network.Network([784, 30, 10])\n",
        "net.SGD(training_data, 30, 100, 5.0, test_data=test_data)"
      ],
      "metadata": {
        "id": "bTOWfscL_Lhv",
        "colab": {
          "base_uri": "https://localhost:8080/"
        },
        "outputId": "da9f1433-4046-4b02-89fb-638d6c8cc5bc"
      },
      "execution_count": 34,
      "outputs": [
        {
          "output_type": "stream",
          "name": "stdout",
          "text": [
            "Epoch 0 : 8332 / 10000\n",
            "Epoch 1 : 8800 / 10000\n",
            "Epoch 2 : 8948 / 10000\n",
            "Epoch 3 : 9057 / 10000\n",
            "Epoch 4 : 9126 / 10000\n",
            "Epoch 5 : 9156 / 10000\n",
            "Epoch 6 : 9199 / 10000\n",
            "Epoch 7 : 9225 / 10000\n",
            "Epoch 8 : 9223 / 10000\n",
            "Epoch 9 : 9264 / 10000\n",
            "Epoch 10 : 9252 / 10000\n",
            "Epoch 11 : 9277 / 10000\n",
            "Epoch 12 : 9296 / 10000\n",
            "Epoch 13 : 9307 / 10000\n",
            "Epoch 14 : 9326 / 10000\n",
            "Epoch 15 : 9337 / 10000\n",
            "Epoch 16 : 9347 / 10000\n",
            "Epoch 17 : 9362 / 10000\n",
            "Epoch 18 : 9360 / 10000\n",
            "Epoch 19 : 9360 / 10000\n",
            "Epoch 20 : 9367 / 10000\n",
            "Epoch 21 : 9363 / 10000\n",
            "Epoch 22 : 9370 / 10000\n",
            "Epoch 23 : 9374 / 10000\n",
            "Epoch 24 : 9386 / 10000\n",
            "Epoch 25 : 9393 / 10000\n",
            "Epoch 26 : 9385 / 10000\n",
            "Epoch 27 : 9420 / 10000\n",
            "Epoch 28 : 9414 / 10000\n",
            "Epoch 29 : 9411 / 10000\n"
          ]
        }
      ]
    },
    {
      "cell_type": "code",
      "source": [
        "a = net.feedforward(list(test_data)[2][0])\n",
        "print(a)\n",
        "print(np.argmax(a))\n",
        "print(list(test_data)[2][1])\n",
        "\n",
        "#per digit accuracies\n",
        "#loop through the test data again\n",
        "#calculate how many of each digit was classified correctly\n",
        "correct_counts = [0 for _ in range(10)]\n",
        "digit_counts = [0 for _ in range(10)]\n",
        "\n",
        "for (x,y) in test_data:\n",
        "  a = np.argmax(net.feedforward(x))\n",
        "  if a == y:\n",
        "    correct_counts[y] += 1\n",
        "    digit_counts[y] += 1\n",
        "\n",
        "print(correct_counts)\n",
        "print(digit_counts)\n",
        "accuracies = [correct_counts[i]/(correct_counts[i]+digit_counts[i]) for i in range(10)]\n",
        "print(accuracies)"
      ],
      "metadata": {
        "id": "ZcmHAl46_P_7",
        "colab": {
          "base_uri": "https://localhost:8080/"
        },
        "outputId": "3eb2c71b-f29f-4266-b036-d3872998a0b1"
      },
      "execution_count": 35,
      "outputs": [
        {
          "output_type": "stream",
          "name": "stdout",
          "text": [
            "[[7.04818797e-08]\n",
            " [9.69800292e-01]\n",
            " [5.55530691e-04]\n",
            " [9.66244737e-04]\n",
            " [5.03814469e-08]\n",
            " [3.82045735e-05]\n",
            " [9.58295908e-04]\n",
            " [4.75450324e-04]\n",
            " [1.62910432e-02]\n",
            " [1.37120007e-04]]\n",
            "1\n",
            "1\n",
            "[957, 1119, 958, 928, 917, 812, 917, 966, 900, 937]\n",
            "[957, 1119, 958, 928, 917, 812, 917, 966, 900, 937]\n",
            "[0.5, 0.5, 0.5, 0.5, 0.5, 0.5, 0.5, 0.5, 0.5, 0.5]\n"
          ]
        }
      ]
    },
    {
      "cell_type": "code",
      "source": [
        "import matplotlib.pyplot as plt #matrix plotting library is what matplotlib represent\n",
        "fig = plt.figure(figsize = (10, 5))\n",
        " #creating the bar plot\n",
        "plt.bar(range(0,10), accuracies, color = 'maroon', width = 0.4)\n",
        "plt.xlabel(\"Digit\")\n",
        "plt.ylabel(\"Accuracy\")\n",
        "plt.title(\"Per digit accuracy for standard hyperpararams\")\n",
        "plt.show()"
      ],
      "metadata": {
        "id": "LO1styz8_VqS",
        "colab": {
          "base_uri": "https://localhost:8080/",
          "height": 487
        },
        "outputId": "c06716cb-5898-448c-baee-d3d245572556"
      },
      "execution_count": 36,
      "outputs": [
        {
          "output_type": "display_data",
          "data": {
            "text/plain": [
              "<Figure size 1000x500 with 1 Axes>"
            ],
            "image/png": "[encoded data removed]"
          },
          "metadata": {}
        }
      ]
    },
    {
      "cell_type": "code",
      "source": [
        "net = network.Network([784, 30, 10])\n",
        "net.SGD(training_data, 30, 10, 1.0, test_data=test_data)"
      ],
      "metadata": {
        "id": "W_RTX7gu_Xum",
        "colab": {
          "base_uri": "https://localhost:8080/"
        },
        "outputId": "af1eed06-15cc-4bb9-9b08-abd240dd8228"
      },
      "execution_count": 37,
      "outputs": [
        {
          "output_type": "stream",
          "name": "stdout",
          "text": [
            "Epoch 0 : 7346 / 10000\n",
            "Epoch 1 : 8925 / 10000\n",
            "Epoch 2 : 9112 / 10000\n",
            "Epoch 3 : 9173 / 10000\n",
            "Epoch 4 : 9208 / 10000\n",
            "Epoch 5 : 9237 / 10000\n",
            "Epoch 6 : 9279 / 10000\n",
            "Epoch 7 : 9314 / 10000\n",
            "Epoch 8 : 9309 / 10000\n",
            "Epoch 9 : 9331 / 10000\n",
            "Epoch 10 : 9332 / 10000\n",
            "Epoch 11 : 9344 / 10000\n",
            "Epoch 12 : 9366 / 10000\n",
            "Epoch 13 : 9365 / 10000\n",
            "Epoch 14 : 9378 / 10000\n",
            "Epoch 15 : 9385 / 10000\n",
            "Epoch 16 : 9387 / 10000\n",
            "Epoch 17 : 9388 / 10000\n",
            "Epoch 18 : 9404 / 10000\n",
            "Epoch 19 : 9406 / 10000\n",
            "Epoch 20 : 9377 / 10000\n",
            "Epoch 21 : 9404 / 10000\n",
            "Epoch 22 : 9387 / 10000\n",
            "Epoch 23 : 9388 / 10000\n",
            "Epoch 24 : 9415 / 10000\n",
            "Epoch 25 : 9401 / 10000\n",
            "Epoch 26 : 9398 / 10000\n",
            "Epoch 27 : 9427 / 10000\n",
            "Epoch 28 : 9425 / 10000\n",
            "Epoch 29 : 9409 / 10000\n"
          ]
        }
      ]
    },
    {
      "cell_type": "code",
      "source": [
        "a = net.feedforward(list(test_data)[2][0])\n",
        "print(a)\n",
        "print(np.argmax(a))\n",
        "print(list(test_data)[2][1])\n",
        "\n",
        "#per digit accuracies\n",
        "#loop through the test data again\n",
        "#calculate how many of each digit was classified correctly\n",
        "correct_counts = [0 for _ in range(10)]\n",
        "digit_counts = [0 for _ in range(10)]\n",
        "\n",
        "for (x,y) in test_data:\n",
        "  a = np.argmax(net.feedforward(x))\n",
        "  if a == y:\n",
        "    correct_counts[y] += 1\n",
        "    digit_counts[y] += 1\n",
        "\n",
        "print(correct_counts)\n",
        "print(digit_counts)\n",
        "accuracies = [correct_counts[i]/(correct_counts[i]+digit_counts[i]) for i in range(10)]\n",
        "print(accuracies)"
      ],
      "metadata": {
        "id": "WJhTfVwh_d8R",
        "colab": {
          "base_uri": "https://localhost:8080/"
        },
        "outputId": "d21976d1-b959-4673-96cc-f5831efeeab5"
      },
      "execution_count": 38,
      "outputs": [
        {
          "output_type": "stream",
          "name": "stdout",
          "text": [
            "[[7.65056209e-08]\n",
            " [9.85717620e-01]\n",
            " [8.30261049e-05]\n",
            " [1.29744920e-04]\n",
            " [4.14053551e-05]\n",
            " [1.04355403e-03]\n",
            " [5.47410010e-07]\n",
            " [3.41893577e-05]\n",
            " [1.63087875e-04]\n",
            " [8.51445221e-06]]\n",
            "1\n",
            "1\n",
            "[952, 1110, 959, 950, 929, 811, 920, 968, 894, 916]\n",
            "[952, 1110, 959, 950, 929, 811, 920, 968, 894, 916]\n",
            "[0.5, 0.5, 0.5, 0.5, 0.5, 0.5, 0.5, 0.5, 0.5, 0.5]\n"
          ]
        }
      ]
    },
    {
      "cell_type": "code",
      "source": [
        "import matplotlib.pyplot as plt #matrix plotting library is what matplotlib represent\n",
        "fig = plt.figure(figsize = (10, 5))\n",
        " #creating the bar plot\n",
        "plt.bar(range(0,10), accuracies, color = 'maroon', width = 0.4)\n",
        "plt.xlabel(\"Digit\")\n",
        "plt.ylabel(\"Accuracy\")\n",
        "plt.title(\"Per digit accuracy for standard hyperpararams\")\n",
        "plt.show()"
      ],
      "metadata": {
        "id": "h-Xr9chm_fmp",
        "colab": {
          "base_uri": "https://localhost:8080/",
          "height": 487
        },
        "outputId": "0c48ca8f-9f00-4dc3-d33e-b7c08b379423"
      },
      "execution_count": 39,
      "outputs": [
        {
          "output_type": "display_data",
          "data": {
            "text/plain": [
              "<Figure size 1000x500 with 1 Axes>"
            ],
            "image/png": "[encoded data removed]"
          },
          "metadata": {}
        }
      ]
    },
    {
      "cell_type": "code",
      "source": [
        "\n",
        "\n",
        "\n",
        "\n",
        "\n",
        "\n",
        "\n",
        "\n",
        "\n",
        "net = network.Network([784, 30, 10])\n",
        "net.SGD(training_data, 30, 10, 3.0, test_data=test_data)"
      ],
      "metadata": {
        "id": "gJr5qQM7_h3B",
        "colab": {
          "base_uri": "https://localhost:8080/"
        },
        "outputId": "3779ebfa-64cb-4563-981f-181fdca35aca"
      },
      "execution_count": 40,
      "outputs": [
        {
          "output_type": "stream",
          "name": "stdout",
          "text": [
            "Epoch 0 : 9092 / 10000\n",
            "Epoch 1 : 9184 / 10000\n",
            "Epoch 2 : 9245 / 10000\n",
            "Epoch 3 : 9275 / 10000\n",
            "Epoch 4 : 9334 / 10000\n",
            "Epoch 5 : 9346 / 10000\n",
            "Epoch 6 : 9368 / 10000\n",
            "Epoch 7 : 9375 / 10000\n",
            "Epoch 8 : 9373 / 10000\n",
            "Epoch 9 : 9406 / 10000\n",
            "Epoch 10 : 9388 / 10000\n",
            "Epoch 11 : 9437 / 10000\n",
            "Epoch 12 : 9426 / 10000\n",
            "Epoch 13 : 9419 / 10000\n",
            "Epoch 14 : 9440 / 10000\n",
            "Epoch 15 : 9466 / 10000\n",
            "Epoch 16 : 9431 / 10000\n",
            "Epoch 17 : 9466 / 10000\n",
            "Epoch 18 : 9466 / 10000\n",
            "Epoch 19 : 9448 / 10000\n",
            "Epoch 20 : 9447 / 10000\n",
            "Epoch 21 : 9463 / 10000\n",
            "Epoch 22 : 9475 / 10000\n",
            "Epoch 23 : 9463 / 10000\n",
            "Epoch 24 : 9471 / 10000\n",
            "Epoch 25 : 9472 / 10000\n",
            "Epoch 26 : 9452 / 10000\n",
            "Epoch 27 : 9455 / 10000\n",
            "Epoch 28 : 9460 / 10000\n",
            "Epoch 29 : 9484 / 10000\n"
          ]
        }
      ]
    },
    {
      "cell_type": "code",
      "source": [
        "a = net.feedforward(list(test_data)[2][0])\n",
        "print(a)\n",
        "print(np.argmax(a))\n",
        "print(list(test_data)[2][1])\n",
        "\n",
        "#per digit accuracies\n",
        "#loop through the test data again\n",
        "#calculate how many of each digit was classified correctly\n",
        "correct_counts = [0 for _ in range(10)]\n",
        "digit_counts = [0 for _ in range(10)]\n",
        "\n",
        "for (x,y) in test_data:\n",
        "  a = np.argmax(net.feedforward(x))\n",
        "  if a == y:\n",
        "    correct_counts[y] += 1\n",
        "    digit_counts[y] += 1\n",
        "\n",
        "print(correct_counts)\n",
        "print(digit_counts)\n",
        "accuracies = [correct_counts[i]/(correct_counts[i]+digit_counts[i]) for i in range(10)]\n",
        "print(accuracies)"
      ],
      "metadata": {
        "id": "b64y9Y09_lSc",
        "colab": {
          "base_uri": "https://localhost:8080/"
        },
        "outputId": "467dcec5-1e5f-46c8-ef9c-871965191bbf"
      },
      "execution_count": 41,
      "outputs": [
        {
          "output_type": "stream",
          "name": "stdout",
          "text": [
            "[[8.51258618e-09]\n",
            " [9.99983465e-01]\n",
            " [3.35641661e-08]\n",
            " [7.34182279e-05]\n",
            " [3.29643039e-09]\n",
            " [3.40919700e-03]\n",
            " [1.37775263e-06]\n",
            " [3.26265763e-06]\n",
            " [1.83965143e-06]\n",
            " [3.06700831e-07]]\n",
            "1\n",
            "1\n",
            "[965, 1120, 967, 946, 929, 827, 920, 971, 896, 943]\n",
            "[965, 1120, 967, 946, 929, 827, 920, 971, 896, 943]\n",
            "[0.5, 0.5, 0.5, 0.5, 0.5, 0.5, 0.5, 0.5, 0.5, 0.5]\n"
          ]
        }
      ]
    },
    {
      "cell_type": "code",
      "source": [
        "import matplotlib.pyplot as plt #matrix plotting library is what matplotlib represent\n",
        "fig = plt.figure(figsize = (10, 5))\n",
        " #creating the bar plot\n",
        "plt.bar(range(0,10), accuracies, color = 'maroon', width = 0.4)\n",
        "plt.xlabel(\"Digit\")\n",
        "plt.ylabel(\"Accuracy\")\n",
        "plt.title(\"Per digit accuracy for standard hyperpararams\")\n",
        "plt.show()"
      ],
      "metadata": {
        "id": "ikCi08qo_m9u",
        "colab": {
          "base_uri": "https://localhost:8080/",
          "height": 487
        },
        "outputId": "271e9d5f-5a89-4150-aaae-b679be9bbd8f"
      },
      "execution_count": 42,
      "outputs": [
        {
          "output_type": "display_data",
          "data": {
            "text/plain": [
              "<Figure size 1000x500 with 1 Axes>"
            ],
            "image/png": "[encoded data removed]"
          },
          "metadata": {}
        }
      ]
    },
    {
      "cell_type": "code",
      "source": [
        "net = network.Network([784, 30, 10])\n",
        "net.SGD(training_data, 30, 10, 5.0, test_data=test_data)"
      ],
      "metadata": {
        "id": "W44P_XoZ_tWQ",
        "colab": {
          "base_uri": "https://localhost:8080/"
        },
        "outputId": "0a8b3cf4-6a7b-4992-9922-5be0d3094b7a"
      },
      "execution_count": 45,
      "outputs": [
        {
          "output_type": "stream",
          "name": "stdout",
          "text": [
            "Epoch 0 : 9081 / 10000\n",
            "Epoch 1 : 9255 / 10000\n",
            "Epoch 2 : 9338 / 10000\n",
            "Epoch 3 : 9361 / 10000\n",
            "Epoch 4 : 9361 / 10000\n",
            "Epoch 5 : 9391 / 10000\n",
            "Epoch 6 : 9352 / 10000\n",
            "Epoch 7 : 9440 / 10000\n",
            "Epoch 8 : 9444 / 10000\n",
            "Epoch 9 : 9468 / 10000\n",
            "Epoch 10 : 9468 / 10000\n",
            "Epoch 11 : 9439 / 10000\n",
            "Epoch 12 : 9473 / 10000\n",
            "Epoch 13 : 9389 / 10000\n",
            "Epoch 14 : 9467 / 10000\n",
            "Epoch 15 : 9463 / 10000\n",
            "Epoch 16 : 9470 / 10000\n",
            "Epoch 17 : 9485 / 10000\n",
            "Epoch 18 : 9507 / 10000\n",
            "Epoch 19 : 9504 / 10000\n",
            "Epoch 20 : 9469 / 10000\n",
            "Epoch 21 : 9495 / 10000\n",
            "Epoch 22 : 9482 / 10000\n",
            "Epoch 23 : 9441 / 10000\n",
            "Epoch 24 : 9498 / 10000\n",
            "Epoch 25 : 9492 / 10000\n",
            "Epoch 26 : 9515 / 10000\n",
            "Epoch 27 : 9483 / 10000\n",
            "Epoch 28 : 9491 / 10000\n",
            "Epoch 29 : 9491 / 10000\n"
          ]
        }
      ]
    },
    {
      "cell_type": "code",
      "source": [
        "a = net.feedforward(list(test_data)[2][0])\n",
        "print(a)\n",
        "print(np.argmax(a))\n",
        "print(list(test_data)[2][1])\n",
        "\n",
        "#per digit accuracies\n",
        "#loop through the test data again\n",
        "#calculate how many of each digit was classified correctly\n",
        "correct_counts = [0 for _ in range(10)]\n",
        "digit_counts = [0 for _ in range(10)]\n",
        "\n",
        "for (x,y) in test_data:\n",
        "  a = np.argmax(net.feedforward(x))\n",
        "  if a == y:\n",
        "    correct_counts[y] += 1\n",
        "    digit_counts[y] += 1\n",
        "\n",
        "print(correct_counts)\n",
        "print(digit_counts)\n",
        "accuracies = [correct_counts[i]/(correct_counts[i]+digit_counts[i]) for i in range(10)]\n",
        "print(accuracies)"
      ],
      "metadata": {
        "id": "UNSHW_Wz_xw1",
        "colab": {
          "base_uri": "https://localhost:8080/"
        },
        "outputId": "0d079b22-7552-47ed-89e7-12787fc9b13f"
      },
      "execution_count": 43,
      "outputs": [
        {
          "output_type": "stream",
          "name": "stdout",
          "text": [
            "[[8.51258618e-09]\n",
            " [9.99983465e-01]\n",
            " [3.35641661e-08]\n",
            " [7.34182279e-05]\n",
            " [3.29643039e-09]\n",
            " [3.40919700e-03]\n",
            " [1.37775263e-06]\n",
            " [3.26265763e-06]\n",
            " [1.83965143e-06]\n",
            " [3.06700831e-07]]\n",
            "1\n",
            "1\n",
            "[965, 1120, 967, 946, 929, 827, 920, 971, 896, 943]\n",
            "[965, 1120, 967, 946, 929, 827, 920, 971, 896, 943]\n",
            "[0.5, 0.5, 0.5, 0.5, 0.5, 0.5, 0.5, 0.5, 0.5, 0.5]\n"
          ]
        }
      ]
    },
    {
      "cell_type": "code",
      "source": [
        "import matplotlib.pyplot as plt #matrix plotting library is what matplotlib represent\n",
        "fig = plt.figure(figsize = (10, 5))\n",
        " #creating the bar plot\n",
        "plt.bar(range(0,10), accuracies, color = 'maroon', width = 0.4)\n",
        "plt.xlabel(\"Digit\")\n",
        "plt.ylabel(\"Accuracy\")\n",
        "plt.title(\"Per digit accuracy for standard hyperpararams\")\n",
        "plt.show()"
      ],
      "metadata": {
        "id": "U9UDxoco_zQz",
        "colab": {
          "base_uri": "https://localhost:8080/",
          "height": 487
        },
        "outputId": "9ed221d1-86d3-4be0-a096-902385fcf716"
      },
      "execution_count": 44,
      "outputs": [
        {
          "output_type": "display_data",
          "data": {
            "text/plain": [
              "<Figure size 1000x500 with 1 Axes>"
            ],
            "image/png": "[encoded data removed]"
          },
          "metadata": {}
        }
      ]
    }
  ]
}